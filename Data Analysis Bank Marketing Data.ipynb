{
 "cells": [
  {
   "cell_type": "markdown",
   "metadata": {},
   "source": [
    "# About the Data "
   ]
  },
  {
   "cell_type": "markdown",
   "metadata": {
    "ExecuteTime": {
     "end_time": "2020-12-09T19:05:22.154507Z",
     "start_time": "2020-12-09T19:05:22.132508Z"
    }
   },
   "source": [
    "The data is related with direct marketing campaigns of a Portuguese banking institution. The marketing campaigns were based  \n",
    "on phone calls. Often , more than one contact to the same client was required, in order to access if the product (bank term deposit)  \n",
    "would be ('yes') or not('no') subscribed.  \n",
    "\n",
    "\n",
    "The Data consist of 21 aatributes, where 20 attributes are input variables and 1 output variables (desired target). The   \n",
    "attributes and their types are as follow:  \n",
    "**Input Variable**\n",
    "\n",
    "1. age = **numeric**\n",
    "2. job = type of job, **categorical**\n",
    "3. marital = marital status, **categorical**\n",
    "4. education = **categorical**\n",
    "5. default = has credit default?, **categorical**\n",
    "6. housing = has housing loan?, **categorical**\n",
    "7. loan = has personal loan?, **categorical**\n",
    "8. contact = contact communication type, **categorical**\n",
    "9. month = last contact month of year, **categorical**\n",
    "10. day_of_week = last contact day of the week, **categorical**\n",
    "11. duration = contact duration, **numeric**\n",
    "12. campaign = number of contacts performed during the campaign, **numeric**\n",
    "13. pdays = number of days passed by after the client was last contacted  from a previous campaign(999 means clieant was not contacted earlier), **numeric**     \n",
    "\n",
    "14. previous = number of contacts performed before this campaign and for this client, **numeric**\n",
    "15. poutcome = outcome of the previous marketing campaign, **categorical**\n",
    "16. emp.var.rate = employment variation rate - quaterly indicator, **numeric**\n",
    "17. cons.price.idx = consumer price index, monthly indicator, **numeric**\n",
    "18. cons.conf.idx = consumer confidence index, monthly indicator, **numeric**\n",
    "19. euribor3m = euribor 3 month rate, daily indicator, **numeric**\n",
    "20. nr.employed = number of employees, quaterly indicator, **numeric**\n",
    "\n",
    "**Output Variable**  \n",
    "21. y = has the client subscribed a term deposit?, **categorical**\n",
    "\n",
    "\n",
    "\n"
   ]
  },
  {
   "cell_type": "markdown",
   "metadata": {},
   "source": [
    "Objective:  \n",
    "- Extract General information\n",
    "- Data Aggregation\n",
    "- Data Analysis\n",
    "- Summary"
   ]
  },
  {
   "cell_type": "code",
   "execution_count": 1,
   "metadata": {
    "ExecuteTime": {
     "end_time": "2021-01-27T16:20:50.974115Z",
     "start_time": "2021-01-27T16:20:47.342116Z"
    }
   },
   "outputs": [
    {
     "data": {
      "text/html": [
       "        <script type=\"text/javascript\">\n",
       "        window.PlotlyConfig = {MathJaxConfig: 'local'};\n",
       "        if (window.MathJax) {MathJax.Hub.Config({SVG: {font: \"STIX-Web\"}});}\n",
       "        if (typeof require !== 'undefined') {\n",
       "        require.undef(\"plotly\");\n",
       "        requirejs.config({\n",
       "            paths: {\n",
       "                'plotly': ['https://cdn.plot.ly/plotly-latest.min']\n",
       "            }\n",
       "        });\n",
       "        require(['plotly'], function(Plotly) {\n",
       "            window._Plotly = Plotly;\n",
       "        });\n",
       "        }\n",
       "        </script>\n",
       "        "
      ]
     },
     "metadata": {},
     "output_type": "display_data"
    },
    {
     "data": {
      "text/html": [
       "        <script type=\"text/javascript\">\n",
       "        window.PlotlyConfig = {MathJaxConfig: 'local'};\n",
       "        if (window.MathJax) {MathJax.Hub.Config({SVG: {font: \"STIX-Web\"}});}\n",
       "        if (typeof require !== 'undefined') {\n",
       "        require.undef(\"plotly\");\n",
       "        requirejs.config({\n",
       "            paths: {\n",
       "                'plotly': ['https://cdn.plot.ly/plotly-latest.min']\n",
       "            }\n",
       "        });\n",
       "        require(['plotly'], function(Plotly) {\n",
       "            window._Plotly = Plotly;\n",
       "        });\n",
       "        }\n",
       "        </script>\n",
       "        "
      ]
     },
     "metadata": {},
     "output_type": "display_data"
    }
   ],
   "source": [
    "# importing libraries\n",
    "import plotly\n",
    "import plotly.express as px\n",
    "import plotly.graph_objects as go\n",
    "import chart_studio.plotly as py\n",
    "import cufflinks as cf\n",
    "from plotly.offline import iplot, init_notebook_mode\n",
    "#--------------------------------------------#\n",
    "\n",
    "import pandas as pd\n",
    "import numpy as np\n",
    "import seaborn as sns\n",
    "\n",
    "%matplotlib inline\n",
    "import matplotlib.pyplot as plt\n",
    "\n",
    "# option for pandas to display the columns\n",
    "pd.options.display.max_columns=30\n",
    "\n",
    "# setting the notebook mode for plotly\n",
    "\n",
    "init_notebook_mode(connected=True)\n",
    "cf.go_offline(connected=True)\n",
    "\n",
    "# setting theme in cufflinks\n",
    "\n",
    "cf.set_config_file(theme=\"pearl\")\n",
    "\n"
   ]
  },
  {
   "cell_type": "code",
   "execution_count": 2,
   "metadata": {
    "ExecuteTime": {
     "end_time": "2021-01-27T16:20:51.284119Z",
     "start_time": "2021-01-27T16:20:50.983120Z"
    }
   },
   "outputs": [],
   "source": [
    "df = pd.read_csv('~/Downloads/Integrify Assignement/bank-additional/bank-additional-full.csv', delimiter= ';')"
   ]
  },
  {
   "cell_type": "code",
   "execution_count": 3,
   "metadata": {
    "ExecuteTime": {
     "end_time": "2021-01-27T16:20:51.344117Z",
     "start_time": "2021-01-27T16:20:51.287115Z"
    }
   },
   "outputs": [
    {
     "data": {
      "text/html": [
       "<div>\n",
       "<style scoped>\n",
       "    .dataframe tbody tr th:only-of-type {\n",
       "        vertical-align: middle;\n",
       "    }\n",
       "\n",
       "    .dataframe tbody tr th {\n",
       "        vertical-align: top;\n",
       "    }\n",
       "\n",
       "    .dataframe thead th {\n",
       "        text-align: right;\n",
       "    }\n",
       "</style>\n",
       "<table border=\"1\" class=\"dataframe\">\n",
       "  <thead>\n",
       "    <tr style=\"text-align: right;\">\n",
       "      <th></th>\n",
       "      <th>age</th>\n",
       "      <th>job</th>\n",
       "      <th>marital</th>\n",
       "      <th>education</th>\n",
       "      <th>default</th>\n",
       "      <th>housing</th>\n",
       "      <th>loan</th>\n",
       "      <th>contact</th>\n",
       "      <th>month</th>\n",
       "      <th>day_of_week</th>\n",
       "      <th>duration</th>\n",
       "      <th>campaign</th>\n",
       "      <th>pdays</th>\n",
       "      <th>previous</th>\n",
       "      <th>poutcome</th>\n",
       "      <th>emp.var.rate</th>\n",
       "      <th>cons.price.idx</th>\n",
       "      <th>cons.conf.idx</th>\n",
       "      <th>euribor3m</th>\n",
       "      <th>nr.employed</th>\n",
       "      <th>y</th>\n",
       "    </tr>\n",
       "  </thead>\n",
       "  <tbody>\n",
       "    <tr>\n",
       "      <th>0</th>\n",
       "      <td>56</td>\n",
       "      <td>housemaid</td>\n",
       "      <td>married</td>\n",
       "      <td>basic.4y</td>\n",
       "      <td>no</td>\n",
       "      <td>no</td>\n",
       "      <td>no</td>\n",
       "      <td>telephone</td>\n",
       "      <td>may</td>\n",
       "      <td>mon</td>\n",
       "      <td>261</td>\n",
       "      <td>1</td>\n",
       "      <td>999</td>\n",
       "      <td>0</td>\n",
       "      <td>nonexistent</td>\n",
       "      <td>1.1</td>\n",
       "      <td>93.994</td>\n",
       "      <td>-36.4</td>\n",
       "      <td>4.857</td>\n",
       "      <td>5191.0</td>\n",
       "      <td>no</td>\n",
       "    </tr>\n",
       "    <tr>\n",
       "      <th>1</th>\n",
       "      <td>57</td>\n",
       "      <td>services</td>\n",
       "      <td>married</td>\n",
       "      <td>high.school</td>\n",
       "      <td>unknown</td>\n",
       "      <td>no</td>\n",
       "      <td>no</td>\n",
       "      <td>telephone</td>\n",
       "      <td>may</td>\n",
       "      <td>mon</td>\n",
       "      <td>149</td>\n",
       "      <td>1</td>\n",
       "      <td>999</td>\n",
       "      <td>0</td>\n",
       "      <td>nonexistent</td>\n",
       "      <td>1.1</td>\n",
       "      <td>93.994</td>\n",
       "      <td>-36.4</td>\n",
       "      <td>4.857</td>\n",
       "      <td>5191.0</td>\n",
       "      <td>no</td>\n",
       "    </tr>\n",
       "    <tr>\n",
       "      <th>2</th>\n",
       "      <td>37</td>\n",
       "      <td>services</td>\n",
       "      <td>married</td>\n",
       "      <td>high.school</td>\n",
       "      <td>no</td>\n",
       "      <td>yes</td>\n",
       "      <td>no</td>\n",
       "      <td>telephone</td>\n",
       "      <td>may</td>\n",
       "      <td>mon</td>\n",
       "      <td>226</td>\n",
       "      <td>1</td>\n",
       "      <td>999</td>\n",
       "      <td>0</td>\n",
       "      <td>nonexistent</td>\n",
       "      <td>1.1</td>\n",
       "      <td>93.994</td>\n",
       "      <td>-36.4</td>\n",
       "      <td>4.857</td>\n",
       "      <td>5191.0</td>\n",
       "      <td>no</td>\n",
       "    </tr>\n",
       "    <tr>\n",
       "      <th>3</th>\n",
       "      <td>40</td>\n",
       "      <td>admin.</td>\n",
       "      <td>married</td>\n",
       "      <td>basic.6y</td>\n",
       "      <td>no</td>\n",
       "      <td>no</td>\n",
       "      <td>no</td>\n",
       "      <td>telephone</td>\n",
       "      <td>may</td>\n",
       "      <td>mon</td>\n",
       "      <td>151</td>\n",
       "      <td>1</td>\n",
       "      <td>999</td>\n",
       "      <td>0</td>\n",
       "      <td>nonexistent</td>\n",
       "      <td>1.1</td>\n",
       "      <td>93.994</td>\n",
       "      <td>-36.4</td>\n",
       "      <td>4.857</td>\n",
       "      <td>5191.0</td>\n",
       "      <td>no</td>\n",
       "    </tr>\n",
       "    <tr>\n",
       "      <th>4</th>\n",
       "      <td>56</td>\n",
       "      <td>services</td>\n",
       "      <td>married</td>\n",
       "      <td>high.school</td>\n",
       "      <td>no</td>\n",
       "      <td>no</td>\n",
       "      <td>yes</td>\n",
       "      <td>telephone</td>\n",
       "      <td>may</td>\n",
       "      <td>mon</td>\n",
       "      <td>307</td>\n",
       "      <td>1</td>\n",
       "      <td>999</td>\n",
       "      <td>0</td>\n",
       "      <td>nonexistent</td>\n",
       "      <td>1.1</td>\n",
       "      <td>93.994</td>\n",
       "      <td>-36.4</td>\n",
       "      <td>4.857</td>\n",
       "      <td>5191.0</td>\n",
       "      <td>no</td>\n",
       "    </tr>\n",
       "  </tbody>\n",
       "</table>\n",
       "</div>"
      ],
      "text/plain": [
       "   age        job  marital    education  default housing loan    contact  \\\n",
       "0   56  housemaid  married     basic.4y       no      no   no  telephone   \n",
       "1   57   services  married  high.school  unknown      no   no  telephone   \n",
       "2   37   services  married  high.school       no     yes   no  telephone   \n",
       "3   40     admin.  married     basic.6y       no      no   no  telephone   \n",
       "4   56   services  married  high.school       no      no  yes  telephone   \n",
       "\n",
       "  month day_of_week  duration  campaign  pdays  previous     poutcome  \\\n",
       "0   may         mon       261         1    999         0  nonexistent   \n",
       "1   may         mon       149         1    999         0  nonexistent   \n",
       "2   may         mon       226         1    999         0  nonexistent   \n",
       "3   may         mon       151         1    999         0  nonexistent   \n",
       "4   may         mon       307         1    999         0  nonexistent   \n",
       "\n",
       "   emp.var.rate  cons.price.idx  cons.conf.idx  euribor3m  nr.employed   y  \n",
       "0           1.1          93.994          -36.4      4.857       5191.0  no  \n",
       "1           1.1          93.994          -36.4      4.857       5191.0  no  \n",
       "2           1.1          93.994          -36.4      4.857       5191.0  no  \n",
       "3           1.1          93.994          -36.4      4.857       5191.0  no  \n",
       "4           1.1          93.994          -36.4      4.857       5191.0  no  "
      ]
     },
     "execution_count": 3,
     "metadata": {},
     "output_type": "execute_result"
    }
   ],
   "source": [
    "df.head()"
   ]
  },
  {
   "cell_type": "markdown",
   "metadata": {},
   "source": [
    "# General Information "
   ]
  },
  {
   "cell_type": "code",
   "execution_count": 4,
   "metadata": {
    "ExecuteTime": {
     "end_time": "2021-01-27T16:20:51.603116Z",
     "start_time": "2021-01-27T16:20:51.347118Z"
    }
   },
   "outputs": [
    {
     "data": {
      "text/plain": [
       "(41188, 21)"
      ]
     },
     "execution_count": 4,
     "metadata": {},
     "output_type": "execute_result"
    }
   ],
   "source": [
    "#shape of the data\n",
    "df.shape\n"
   ]
  },
  {
   "cell_type": "code",
   "execution_count": null,
   "metadata": {},
   "outputs": [],
   "source": []
  },
  {
   "cell_type": "code",
   "execution_count": 5,
   "metadata": {
    "ExecuteTime": {
     "end_time": "2021-01-27T16:20:51.697124Z",
     "start_time": "2021-01-27T16:20:51.608124Z"
    }
   },
   "outputs": [
    {
     "data": {
      "text/plain": [
       "Index(['age', 'job', 'marital', 'education', 'default', 'housing', 'loan',\n",
       "       'contact', 'month', 'day_of_week', 'duration', 'campaign', 'pdays',\n",
       "       'previous', 'poutcome', 'emp.var.rate', 'cons.price.idx',\n",
       "       'cons.conf.idx', 'euribor3m', 'nr.employed', 'y'],\n",
       "      dtype='object')"
      ]
     },
     "execution_count": 5,
     "metadata": {},
     "output_type": "execute_result"
    }
   ],
   "source": [
    "# colummns names\n",
    "df.columns"
   ]
  },
  {
   "cell_type": "code",
   "execution_count": 6,
   "metadata": {
    "ExecuteTime": {
     "end_time": "2021-01-27T16:20:51.905114Z",
     "start_time": "2021-01-27T16:20:51.703118Z"
    }
   },
   "outputs": [
    {
     "name": "stdout",
     "output_type": "stream",
     "text": [
      "<class 'pandas.core.frame.DataFrame'>\n",
      "RangeIndex: 41188 entries, 0 to 41187\n",
      "Data columns (total 21 columns):\n",
      " #   Column          Non-Null Count  Dtype  \n",
      "---  ------          --------------  -----  \n",
      " 0   age             41188 non-null  int64  \n",
      " 1   job             41188 non-null  object \n",
      " 2   marital         41188 non-null  object \n",
      " 3   education       41188 non-null  object \n",
      " 4   default         41188 non-null  object \n",
      " 5   housing         41188 non-null  object \n",
      " 6   loan            41188 non-null  object \n",
      " 7   contact         41188 non-null  object \n",
      " 8   month           41188 non-null  object \n",
      " 9   day_of_week     41188 non-null  object \n",
      " 10  duration        41188 non-null  int64  \n",
      " 11  campaign        41188 non-null  int64  \n",
      " 12  pdays           41188 non-null  int64  \n",
      " 13  previous        41188 non-null  int64  \n",
      " 14  poutcome        41188 non-null  object \n",
      " 15  emp.var.rate    41188 non-null  float64\n",
      " 16  cons.price.idx  41188 non-null  float64\n",
      " 17  cons.conf.idx   41188 non-null  float64\n",
      " 18  euribor3m       41188 non-null  float64\n",
      " 19  nr.employed     41188 non-null  float64\n",
      " 20  y               41188 non-null  object \n",
      "dtypes: float64(5), int64(5), object(11)\n",
      "memory usage: 6.6+ MB\n"
     ]
    }
   ],
   "source": [
    "# General info \n",
    "df.info()"
   ]
  },
  {
   "cell_type": "code",
   "execution_count": 7,
   "metadata": {
    "ExecuteTime": {
     "end_time": "2021-01-27T16:20:52.043119Z",
     "start_time": "2021-01-27T16:20:51.936115Z"
    }
   },
   "outputs": [
    {
     "data": {
      "text/plain": [
       "age               0\n",
       "job               0\n",
       "marital           0\n",
       "education         0\n",
       "default           0\n",
       "housing           0\n",
       "loan              0\n",
       "contact           0\n",
       "month             0\n",
       "day_of_week       0\n",
       "duration          0\n",
       "campaign          0\n",
       "pdays             0\n",
       "previous          0\n",
       "poutcome          0\n",
       "emp.var.rate      0\n",
       "cons.price.idx    0\n",
       "cons.conf.idx     0\n",
       "euribor3m         0\n",
       "nr.employed       0\n",
       "y                 0\n",
       "dtype: int64"
      ]
     },
     "execution_count": 7,
     "metadata": {},
     "output_type": "execute_result"
    }
   ],
   "source": [
    "# Presence of null value \n",
    "df.isnull().sum()"
   ]
  },
  {
   "cell_type": "code",
   "execution_count": 8,
   "metadata": {
    "ExecuteTime": {
     "end_time": "2021-01-27T16:20:52.230117Z",
     "start_time": "2021-01-27T16:20:52.060116Z"
    }
   },
   "outputs": [
    {
     "data": {
      "text/plain": [
       "12"
      ]
     },
     "execution_count": 8,
     "metadata": {},
     "output_type": "execute_result"
    }
   ],
   "source": [
    "# Presence of duplicate data\n",
    "df.duplicated().sum()"
   ]
  },
  {
   "cell_type": "code",
   "execution_count": 9,
   "metadata": {
    "ExecuteTime": {
     "end_time": "2021-01-27T16:20:52.353112Z",
     "start_time": "2021-01-27T16:20:52.233116Z"
    }
   },
   "outputs": [],
   "source": [
    "# Removing the duplicate data\n",
    "df.drop_duplicates(keep='first', inplace = True)"
   ]
  },
  {
   "cell_type": "code",
   "execution_count": 10,
   "metadata": {
    "ExecuteTime": {
     "end_time": "2021-01-27T16:20:52.384115Z",
     "start_time": "2021-01-27T16:20:52.356118Z"
    }
   },
   "outputs": [],
   "source": [
    "# converting 'y' column to int64\n",
    "df['y'].replace({\"no\" : 0, \"yes\": 1}, inplace = True )"
   ]
  },
  {
   "cell_type": "markdown",
   "metadata": {},
   "source": [
    "## Descriptive Statistics"
   ]
  },
  {
   "cell_type": "code",
   "execution_count": 11,
   "metadata": {
    "ExecuteTime": {
     "end_time": "2021-01-27T16:20:52.540119Z",
     "start_time": "2021-01-27T16:20:52.386115Z"
    }
   },
   "outputs": [
    {
     "data": {
      "text/html": [
       "<div>\n",
       "<style scoped>\n",
       "    .dataframe tbody tr th:only-of-type {\n",
       "        vertical-align: middle;\n",
       "    }\n",
       "\n",
       "    .dataframe tbody tr th {\n",
       "        vertical-align: top;\n",
       "    }\n",
       "\n",
       "    .dataframe thead th {\n",
       "        text-align: right;\n",
       "    }\n",
       "</style>\n",
       "<table border=\"1\" class=\"dataframe\">\n",
       "  <thead>\n",
       "    <tr style=\"text-align: right;\">\n",
       "      <th></th>\n",
       "      <th>age</th>\n",
       "      <th>duration</th>\n",
       "      <th>campaign</th>\n",
       "      <th>pdays</th>\n",
       "      <th>previous</th>\n",
       "      <th>emp.var.rate</th>\n",
       "      <th>cons.price.idx</th>\n",
       "      <th>cons.conf.idx</th>\n",
       "      <th>euribor3m</th>\n",
       "      <th>nr.employed</th>\n",
       "      <th>y</th>\n",
       "    </tr>\n",
       "  </thead>\n",
       "  <tbody>\n",
       "    <tr>\n",
       "      <th>count</th>\n",
       "      <td>41176.00000</td>\n",
       "      <td>41176.000000</td>\n",
       "      <td>41176.000000</td>\n",
       "      <td>41176.000000</td>\n",
       "      <td>41176.000000</td>\n",
       "      <td>41176.000000</td>\n",
       "      <td>41176.000000</td>\n",
       "      <td>41176.000000</td>\n",
       "      <td>41176.000000</td>\n",
       "      <td>41176.000000</td>\n",
       "      <td>41176.000000</td>\n",
       "    </tr>\n",
       "    <tr>\n",
       "      <th>mean</th>\n",
       "      <td>40.02380</td>\n",
       "      <td>258.315815</td>\n",
       "      <td>2.567879</td>\n",
       "      <td>962.464810</td>\n",
       "      <td>0.173013</td>\n",
       "      <td>0.081922</td>\n",
       "      <td>93.575720</td>\n",
       "      <td>-40.502863</td>\n",
       "      <td>3.621293</td>\n",
       "      <td>5167.034870</td>\n",
       "      <td>0.112663</td>\n",
       "    </tr>\n",
       "    <tr>\n",
       "      <th>std</th>\n",
       "      <td>10.42068</td>\n",
       "      <td>259.305321</td>\n",
       "      <td>2.770318</td>\n",
       "      <td>186.937102</td>\n",
       "      <td>0.494964</td>\n",
       "      <td>1.570883</td>\n",
       "      <td>0.578839</td>\n",
       "      <td>4.627860</td>\n",
       "      <td>1.734437</td>\n",
       "      <td>72.251364</td>\n",
       "      <td>0.316184</td>\n",
       "    </tr>\n",
       "    <tr>\n",
       "      <th>min</th>\n",
       "      <td>17.00000</td>\n",
       "      <td>0.000000</td>\n",
       "      <td>1.000000</td>\n",
       "      <td>0.000000</td>\n",
       "      <td>0.000000</td>\n",
       "      <td>-3.400000</td>\n",
       "      <td>92.201000</td>\n",
       "      <td>-50.800000</td>\n",
       "      <td>0.634000</td>\n",
       "      <td>4963.600000</td>\n",
       "      <td>0.000000</td>\n",
       "    </tr>\n",
       "    <tr>\n",
       "      <th>25%</th>\n",
       "      <td>32.00000</td>\n",
       "      <td>102.000000</td>\n",
       "      <td>1.000000</td>\n",
       "      <td>999.000000</td>\n",
       "      <td>0.000000</td>\n",
       "      <td>-1.800000</td>\n",
       "      <td>93.075000</td>\n",
       "      <td>-42.700000</td>\n",
       "      <td>1.344000</td>\n",
       "      <td>5099.100000</td>\n",
       "      <td>0.000000</td>\n",
       "    </tr>\n",
       "    <tr>\n",
       "      <th>50%</th>\n",
       "      <td>38.00000</td>\n",
       "      <td>180.000000</td>\n",
       "      <td>2.000000</td>\n",
       "      <td>999.000000</td>\n",
       "      <td>0.000000</td>\n",
       "      <td>1.100000</td>\n",
       "      <td>93.749000</td>\n",
       "      <td>-41.800000</td>\n",
       "      <td>4.857000</td>\n",
       "      <td>5191.000000</td>\n",
       "      <td>0.000000</td>\n",
       "    </tr>\n",
       "    <tr>\n",
       "      <th>75%</th>\n",
       "      <td>47.00000</td>\n",
       "      <td>319.000000</td>\n",
       "      <td>3.000000</td>\n",
       "      <td>999.000000</td>\n",
       "      <td>0.000000</td>\n",
       "      <td>1.400000</td>\n",
       "      <td>93.994000</td>\n",
       "      <td>-36.400000</td>\n",
       "      <td>4.961000</td>\n",
       "      <td>5228.100000</td>\n",
       "      <td>0.000000</td>\n",
       "    </tr>\n",
       "    <tr>\n",
       "      <th>max</th>\n",
       "      <td>98.00000</td>\n",
       "      <td>4918.000000</td>\n",
       "      <td>56.000000</td>\n",
       "      <td>999.000000</td>\n",
       "      <td>7.000000</td>\n",
       "      <td>1.400000</td>\n",
       "      <td>94.767000</td>\n",
       "      <td>-26.900000</td>\n",
       "      <td>5.045000</td>\n",
       "      <td>5228.100000</td>\n",
       "      <td>1.000000</td>\n",
       "    </tr>\n",
       "  </tbody>\n",
       "</table>\n",
       "</div>"
      ],
      "text/plain": [
       "               age      duration      campaign         pdays      previous  \\\n",
       "count  41176.00000  41176.000000  41176.000000  41176.000000  41176.000000   \n",
       "mean      40.02380    258.315815      2.567879    962.464810      0.173013   \n",
       "std       10.42068    259.305321      2.770318    186.937102      0.494964   \n",
       "min       17.00000      0.000000      1.000000      0.000000      0.000000   \n",
       "25%       32.00000    102.000000      1.000000    999.000000      0.000000   \n",
       "50%       38.00000    180.000000      2.000000    999.000000      0.000000   \n",
       "75%       47.00000    319.000000      3.000000    999.000000      0.000000   \n",
       "max       98.00000   4918.000000     56.000000    999.000000      7.000000   \n",
       "\n",
       "       emp.var.rate  cons.price.idx  cons.conf.idx     euribor3m  \\\n",
       "count  41176.000000    41176.000000   41176.000000  41176.000000   \n",
       "mean       0.081922       93.575720     -40.502863      3.621293   \n",
       "std        1.570883        0.578839       4.627860      1.734437   \n",
       "min       -3.400000       92.201000     -50.800000      0.634000   \n",
       "25%       -1.800000       93.075000     -42.700000      1.344000   \n",
       "50%        1.100000       93.749000     -41.800000      4.857000   \n",
       "75%        1.400000       93.994000     -36.400000      4.961000   \n",
       "max        1.400000       94.767000     -26.900000      5.045000   \n",
       "\n",
       "        nr.employed             y  \n",
       "count  41176.000000  41176.000000  \n",
       "mean    5167.034870      0.112663  \n",
       "std       72.251364      0.316184  \n",
       "min     4963.600000      0.000000  \n",
       "25%     5099.100000      0.000000  \n",
       "50%     5191.000000      0.000000  \n",
       "75%     5228.100000      0.000000  \n",
       "max     5228.100000      1.000000  "
      ]
     },
     "execution_count": 11,
     "metadata": {},
     "output_type": "execute_result"
    }
   ],
   "source": [
    "df.describe()"
   ]
  },
  {
   "cell_type": "markdown",
   "metadata": {},
   "source": [
    "10 out of 21 columns in the data are numeric and its descriptive analysis can be seen above. 'pdays' column specifies number of days passed after the last contact with a client. It shows abnormal data as '999' was used for no contact with client previously. We find difficult to replace the value for clients who were not previously contacted. We chose to drop the column as '999' majorly occupies the 'pdays' column. In addition, We  drop 'nr.employed' column as it not of much importance and 'epm.var.rate' column indicates the employment variation rate and which is more important socio-economic indicator. Also, we drop 'contact' and 'day_of_week' and 'duration'(value 0 exist, which means y='no' and it highly affects the output variable) column as it is of less importance."
   ]
  },
  {
   "cell_type": "code",
   "execution_count": 12,
   "metadata": {
    "ExecuteTime": {
     "end_time": "2021-01-27T16:20:52.587118Z",
     "start_time": "2021-01-27T16:20:52.548117Z"
    }
   },
   "outputs": [],
   "source": [
    "# Removing 'pdays' column\n",
    "df.drop(['pdays','nr.employed','contact','duration','day_of_week'], axis=1, inplace = True)"
   ]
  },
  {
   "cell_type": "code",
   "execution_count": 13,
   "metadata": {
    "ExecuteTime": {
     "end_time": "2021-01-27T16:20:52.741118Z",
     "start_time": "2021-01-27T16:20:52.593116Z"
    }
   },
   "outputs": [
    {
     "data": {
      "text/html": [
       "<div>\n",
       "<style scoped>\n",
       "    .dataframe tbody tr th:only-of-type {\n",
       "        vertical-align: middle;\n",
       "    }\n",
       "\n",
       "    .dataframe tbody tr th {\n",
       "        vertical-align: top;\n",
       "    }\n",
       "\n",
       "    .dataframe thead th {\n",
       "        text-align: right;\n",
       "    }\n",
       "</style>\n",
       "<table border=\"1\" class=\"dataframe\">\n",
       "  <thead>\n",
       "    <tr style=\"text-align: right;\">\n",
       "      <th></th>\n",
       "      <th>job</th>\n",
       "      <th>marital</th>\n",
       "      <th>education</th>\n",
       "      <th>default</th>\n",
       "      <th>housing</th>\n",
       "      <th>loan</th>\n",
       "      <th>month</th>\n",
       "      <th>poutcome</th>\n",
       "    </tr>\n",
       "  </thead>\n",
       "  <tbody>\n",
       "    <tr>\n",
       "      <th>count</th>\n",
       "      <td>41176</td>\n",
       "      <td>41176</td>\n",
       "      <td>41176</td>\n",
       "      <td>41176</td>\n",
       "      <td>41176</td>\n",
       "      <td>41176</td>\n",
       "      <td>41176</td>\n",
       "      <td>41176</td>\n",
       "    </tr>\n",
       "    <tr>\n",
       "      <th>unique</th>\n",
       "      <td>12</td>\n",
       "      <td>4</td>\n",
       "      <td>8</td>\n",
       "      <td>3</td>\n",
       "      <td>3</td>\n",
       "      <td>3</td>\n",
       "      <td>10</td>\n",
       "      <td>3</td>\n",
       "    </tr>\n",
       "    <tr>\n",
       "      <th>top</th>\n",
       "      <td>admin.</td>\n",
       "      <td>married</td>\n",
       "      <td>university.degree</td>\n",
       "      <td>no</td>\n",
       "      <td>yes</td>\n",
       "      <td>no</td>\n",
       "      <td>may</td>\n",
       "      <td>nonexistent</td>\n",
       "    </tr>\n",
       "    <tr>\n",
       "      <th>freq</th>\n",
       "      <td>10419</td>\n",
       "      <td>24921</td>\n",
       "      <td>12164</td>\n",
       "      <td>32577</td>\n",
       "      <td>21571</td>\n",
       "      <td>33938</td>\n",
       "      <td>13767</td>\n",
       "      <td>35551</td>\n",
       "    </tr>\n",
       "  </tbody>\n",
       "</table>\n",
       "</div>"
      ],
      "text/plain": [
       "           job  marital          education default housing   loan  month  \\\n",
       "count    41176    41176              41176   41176   41176  41176  41176   \n",
       "unique      12        4                  8       3       3      3     10   \n",
       "top     admin.  married  university.degree      no     yes     no    may   \n",
       "freq     10419    24921              12164   32577   21571  33938  13767   \n",
       "\n",
       "           poutcome  \n",
       "count         41176  \n",
       "unique            3  \n",
       "top     nonexistent  \n",
       "freq          35551  "
      ]
     },
     "execution_count": 13,
     "metadata": {},
     "output_type": "execute_result"
    }
   ],
   "source": [
    "# descriptive statistics on non-numerical features\n",
    "df.describe(include = ['object'])"
   ]
  },
  {
   "cell_type": "code",
   "execution_count": 14,
   "metadata": {
    "ExecuteTime": {
     "end_time": "2021-01-27T16:20:52.755112Z",
     "start_time": "2021-01-27T16:20:52.744118Z"
    }
   },
   "outputs": [],
   "source": [
    "# Correlation\n",
    "def color(x):\n",
    "    if x>0.8:\n",
    "        color ='blue'\n",
    "    else:\n",
    "        color ='black'\n",
    "    return 'color:%s'%color"
   ]
  },
  {
   "cell_type": "code",
   "execution_count": 15,
   "metadata": {
    "ExecuteTime": {
     "end_time": "2021-01-27T16:20:53.323115Z",
     "start_time": "2021-01-27T16:20:52.760116Z"
    }
   },
   "outputs": [
    {
     "data": {
      "text/html": [
       "<style  type=\"text/css\" >\n",
       "#T_a084595d_60bb_11eb_9fa3_2c27d732bb6erow0_col0,#T_a084595d_60bb_11eb_9fa3_2c27d732bb6erow1_col1,#T_a084595d_60bb_11eb_9fa3_2c27d732bb6erow2_col2,#T_a084595d_60bb_11eb_9fa3_2c27d732bb6erow3_col3,#T_a084595d_60bb_11eb_9fa3_2c27d732bb6erow3_col6,#T_a084595d_60bb_11eb_9fa3_2c27d732bb6erow4_col4,#T_a084595d_60bb_11eb_9fa3_2c27d732bb6erow5_col5,#T_a084595d_60bb_11eb_9fa3_2c27d732bb6erow6_col3,#T_a084595d_60bb_11eb_9fa3_2c27d732bb6erow6_col6,#T_a084595d_60bb_11eb_9fa3_2c27d732bb6erow7_col7{\n",
       "            color: blue;\n",
       "        }#T_a084595d_60bb_11eb_9fa3_2c27d732bb6erow0_col1,#T_a084595d_60bb_11eb_9fa3_2c27d732bb6erow0_col2,#T_a084595d_60bb_11eb_9fa3_2c27d732bb6erow0_col3,#T_a084595d_60bb_11eb_9fa3_2c27d732bb6erow0_col4,#T_a084595d_60bb_11eb_9fa3_2c27d732bb6erow0_col5,#T_a084595d_60bb_11eb_9fa3_2c27d732bb6erow0_col6,#T_a084595d_60bb_11eb_9fa3_2c27d732bb6erow0_col7,#T_a084595d_60bb_11eb_9fa3_2c27d732bb6erow1_col0,#T_a084595d_60bb_11eb_9fa3_2c27d732bb6erow1_col2,#T_a084595d_60bb_11eb_9fa3_2c27d732bb6erow1_col3,#T_a084595d_60bb_11eb_9fa3_2c27d732bb6erow1_col4,#T_a084595d_60bb_11eb_9fa3_2c27d732bb6erow1_col5,#T_a084595d_60bb_11eb_9fa3_2c27d732bb6erow1_col6,#T_a084595d_60bb_11eb_9fa3_2c27d732bb6erow1_col7,#T_a084595d_60bb_11eb_9fa3_2c27d732bb6erow2_col0,#T_a084595d_60bb_11eb_9fa3_2c27d732bb6erow2_col1,#T_a084595d_60bb_11eb_9fa3_2c27d732bb6erow2_col3,#T_a084595d_60bb_11eb_9fa3_2c27d732bb6erow2_col4,#T_a084595d_60bb_11eb_9fa3_2c27d732bb6erow2_col5,#T_a084595d_60bb_11eb_9fa3_2c27d732bb6erow2_col6,#T_a084595d_60bb_11eb_9fa3_2c27d732bb6erow2_col7,#T_a084595d_60bb_11eb_9fa3_2c27d732bb6erow3_col0,#T_a084595d_60bb_11eb_9fa3_2c27d732bb6erow3_col1,#T_a084595d_60bb_11eb_9fa3_2c27d732bb6erow3_col2,#T_a084595d_60bb_11eb_9fa3_2c27d732bb6erow3_col4,#T_a084595d_60bb_11eb_9fa3_2c27d732bb6erow3_col5,#T_a084595d_60bb_11eb_9fa3_2c27d732bb6erow3_col7,#T_a084595d_60bb_11eb_9fa3_2c27d732bb6erow4_col0,#T_a084595d_60bb_11eb_9fa3_2c27d732bb6erow4_col1,#T_a084595d_60bb_11eb_9fa3_2c27d732bb6erow4_col2,#T_a084595d_60bb_11eb_9fa3_2c27d732bb6erow4_col3,#T_a084595d_60bb_11eb_9fa3_2c27d732bb6erow4_col5,#T_a084595d_60bb_11eb_9fa3_2c27d732bb6erow4_col6,#T_a084595d_60bb_11eb_9fa3_2c27d732bb6erow4_col7,#T_a084595d_60bb_11eb_9fa3_2c27d732bb6erow5_col0,#T_a084595d_60bb_11eb_9fa3_2c27d732bb6erow5_col1,#T_a084595d_60bb_11eb_9fa3_2c27d732bb6erow5_col2,#T_a084595d_60bb_11eb_9fa3_2c27d732bb6erow5_col3,#T_a084595d_60bb_11eb_9fa3_2c27d732bb6erow5_col4,#T_a084595d_60bb_11eb_9fa3_2c27d732bb6erow5_col6,#T_a084595d_60bb_11eb_9fa3_2c27d732bb6erow5_col7,#T_a084595d_60bb_11eb_9fa3_2c27d732bb6erow6_col0,#T_a084595d_60bb_11eb_9fa3_2c27d732bb6erow6_col1,#T_a084595d_60bb_11eb_9fa3_2c27d732bb6erow6_col2,#T_a084595d_60bb_11eb_9fa3_2c27d732bb6erow6_col4,#T_a084595d_60bb_11eb_9fa3_2c27d732bb6erow6_col5,#T_a084595d_60bb_11eb_9fa3_2c27d732bb6erow6_col7,#T_a084595d_60bb_11eb_9fa3_2c27d732bb6erow7_col0,#T_a084595d_60bb_11eb_9fa3_2c27d732bb6erow7_col1,#T_a084595d_60bb_11eb_9fa3_2c27d732bb6erow7_col2,#T_a084595d_60bb_11eb_9fa3_2c27d732bb6erow7_col3,#T_a084595d_60bb_11eb_9fa3_2c27d732bb6erow7_col4,#T_a084595d_60bb_11eb_9fa3_2c27d732bb6erow7_col5,#T_a084595d_60bb_11eb_9fa3_2c27d732bb6erow7_col6{\n",
       "            color: black;\n",
       "        }</style><table id=\"T_a084595d_60bb_11eb_9fa3_2c27d732bb6e\" ><thead>    <tr>        <th class=\"blank level0\" ></th>        <th class=\"col_heading level0 col0\" >age</th>        <th class=\"col_heading level0 col1\" >campaign</th>        <th class=\"col_heading level0 col2\" >previous</th>        <th class=\"col_heading level0 col3\" >emp.var.rate</th>        <th class=\"col_heading level0 col4\" >cons.price.idx</th>        <th class=\"col_heading level0 col5\" >cons.conf.idx</th>        <th class=\"col_heading level0 col6\" >euribor3m</th>        <th class=\"col_heading level0 col7\" >y</th>    </tr></thead><tbody>\n",
       "                <tr>\n",
       "                        <th id=\"T_a084595d_60bb_11eb_9fa3_2c27d732bb6elevel0_row0\" class=\"row_heading level0 row0\" >age</th>\n",
       "                        <td id=\"T_a084595d_60bb_11eb_9fa3_2c27d732bb6erow0_col0\" class=\"data row0 col0\" >1.000000</td>\n",
       "                        <td id=\"T_a084595d_60bb_11eb_9fa3_2c27d732bb6erow0_col1\" class=\"data row0 col1\" >0.004622</td>\n",
       "                        <td id=\"T_a084595d_60bb_11eb_9fa3_2c27d732bb6erow0_col2\" class=\"data row0 col2\" >0.024379</td>\n",
       "                        <td id=\"T_a084595d_60bb_11eb_9fa3_2c27d732bb6erow0_col3\" class=\"data row0 col3\" >-0.000242</td>\n",
       "                        <td id=\"T_a084595d_60bb_11eb_9fa3_2c27d732bb6erow0_col4\" class=\"data row0 col4\" >0.001009</td>\n",
       "                        <td id=\"T_a084595d_60bb_11eb_9fa3_2c27d732bb6erow0_col5\" class=\"data row0 col5\" >0.129075</td>\n",
       "                        <td id=\"T_a084595d_60bb_11eb_9fa3_2c27d732bb6erow0_col6\" class=\"data row0 col6\" >0.010852</td>\n",
       "                        <td id=\"T_a084595d_60bb_11eb_9fa3_2c27d732bb6erow0_col7\" class=\"data row0 col7\" >0.030381</td>\n",
       "            </tr>\n",
       "            <tr>\n",
       "                        <th id=\"T_a084595d_60bb_11eb_9fa3_2c27d732bb6elevel0_row1\" class=\"row_heading level0 row1\" >campaign</th>\n",
       "                        <td id=\"T_a084595d_60bb_11eb_9fa3_2c27d732bb6erow1_col0\" class=\"data row1 col0\" >0.004622</td>\n",
       "                        <td id=\"T_a084595d_60bb_11eb_9fa3_2c27d732bb6erow1_col1\" class=\"data row1 col1\" >1.000000</td>\n",
       "                        <td id=\"T_a084595d_60bb_11eb_9fa3_2c27d732bb6erow1_col2\" class=\"data row1 col2\" >-0.079182</td>\n",
       "                        <td id=\"T_a084595d_60bb_11eb_9fa3_2c27d732bb6erow1_col3\" class=\"data row1 col3\" >0.150786</td>\n",
       "                        <td id=\"T_a084595d_60bb_11eb_9fa3_2c27d732bb6erow1_col4\" class=\"data row1 col4\" >0.127826</td>\n",
       "                        <td id=\"T_a084595d_60bb_11eb_9fa3_2c27d732bb6erow1_col5\" class=\"data row1 col5\" >-0.013657</td>\n",
       "                        <td id=\"T_a084595d_60bb_11eb_9fa3_2c27d732bb6erow1_col6\" class=\"data row1 col6\" >0.135169</td>\n",
       "                        <td id=\"T_a084595d_60bb_11eb_9fa3_2c27d732bb6erow1_col7\" class=\"data row1 col7\" >-0.066361</td>\n",
       "            </tr>\n",
       "            <tr>\n",
       "                        <th id=\"T_a084595d_60bb_11eb_9fa3_2c27d732bb6elevel0_row2\" class=\"row_heading level0 row2\" >previous</th>\n",
       "                        <td id=\"T_a084595d_60bb_11eb_9fa3_2c27d732bb6erow2_col0\" class=\"data row2 col0\" >0.024379</td>\n",
       "                        <td id=\"T_a084595d_60bb_11eb_9fa3_2c27d732bb6erow2_col1\" class=\"data row2 col1\" >-0.079182</td>\n",
       "                        <td id=\"T_a084595d_60bb_11eb_9fa3_2c27d732bb6erow2_col2\" class=\"data row2 col2\" >1.000000</td>\n",
       "                        <td id=\"T_a084595d_60bb_11eb_9fa3_2c27d732bb6erow2_col3\" class=\"data row2 col3\" >-0.420587</td>\n",
       "                        <td id=\"T_a084595d_60bb_11eb_9fa3_2c27d732bb6erow2_col4\" class=\"data row2 col4\" >-0.203197</td>\n",
       "                        <td id=\"T_a084595d_60bb_11eb_9fa3_2c27d732bb6erow2_col5\" class=\"data row2 col5\" >-0.050929</td>\n",
       "                        <td id=\"T_a084595d_60bb_11eb_9fa3_2c27d732bb6erow2_col6\" class=\"data row2 col6\" >-0.454571</td>\n",
       "                        <td id=\"T_a084595d_60bb_11eb_9fa3_2c27d732bb6erow2_col7\" class=\"data row2 col7\" >0.230202</td>\n",
       "            </tr>\n",
       "            <tr>\n",
       "                        <th id=\"T_a084595d_60bb_11eb_9fa3_2c27d732bb6elevel0_row3\" class=\"row_heading level0 row3\" >emp.var.rate</th>\n",
       "                        <td id=\"T_a084595d_60bb_11eb_9fa3_2c27d732bb6erow3_col0\" class=\"data row3 col0\" >-0.000242</td>\n",
       "                        <td id=\"T_a084595d_60bb_11eb_9fa3_2c27d732bb6erow3_col1\" class=\"data row3 col1\" >0.150786</td>\n",
       "                        <td id=\"T_a084595d_60bb_11eb_9fa3_2c27d732bb6erow3_col2\" class=\"data row3 col2\" >-0.420587</td>\n",
       "                        <td id=\"T_a084595d_60bb_11eb_9fa3_2c27d732bb6erow3_col3\" class=\"data row3 col3\" >1.000000</td>\n",
       "                        <td id=\"T_a084595d_60bb_11eb_9fa3_2c27d732bb6erow3_col4\" class=\"data row3 col4\" >0.775293</td>\n",
       "                        <td id=\"T_a084595d_60bb_11eb_9fa3_2c27d732bb6erow3_col5\" class=\"data row3 col5\" >0.196257</td>\n",
       "                        <td id=\"T_a084595d_60bb_11eb_9fa3_2c27d732bb6erow3_col6\" class=\"data row3 col6\" >0.972244</td>\n",
       "                        <td id=\"T_a084595d_60bb_11eb_9fa3_2c27d732bb6erow3_col7\" class=\"data row3 col7\" >-0.298289</td>\n",
       "            </tr>\n",
       "            <tr>\n",
       "                        <th id=\"T_a084595d_60bb_11eb_9fa3_2c27d732bb6elevel0_row4\" class=\"row_heading level0 row4\" >cons.price.idx</th>\n",
       "                        <td id=\"T_a084595d_60bb_11eb_9fa3_2c27d732bb6erow4_col0\" class=\"data row4 col0\" >0.001009</td>\n",
       "                        <td id=\"T_a084595d_60bb_11eb_9fa3_2c27d732bb6erow4_col1\" class=\"data row4 col1\" >0.127826</td>\n",
       "                        <td id=\"T_a084595d_60bb_11eb_9fa3_2c27d732bb6erow4_col2\" class=\"data row4 col2\" >-0.203197</td>\n",
       "                        <td id=\"T_a084595d_60bb_11eb_9fa3_2c27d732bb6erow4_col3\" class=\"data row4 col3\" >0.775293</td>\n",
       "                        <td id=\"T_a084595d_60bb_11eb_9fa3_2c27d732bb6erow4_col4\" class=\"data row4 col4\" >1.000000</td>\n",
       "                        <td id=\"T_a084595d_60bb_11eb_9fa3_2c27d732bb6erow4_col5\" class=\"data row4 col5\" >0.059170</td>\n",
       "                        <td id=\"T_a084595d_60bb_11eb_9fa3_2c27d732bb6erow4_col6\" class=\"data row4 col6\" >0.688180</td>\n",
       "                        <td id=\"T_a084595d_60bb_11eb_9fa3_2c27d732bb6erow4_col7\" class=\"data row4 col7\" >-0.136134</td>\n",
       "            </tr>\n",
       "            <tr>\n",
       "                        <th id=\"T_a084595d_60bb_11eb_9fa3_2c27d732bb6elevel0_row5\" class=\"row_heading level0 row5\" >cons.conf.idx</th>\n",
       "                        <td id=\"T_a084595d_60bb_11eb_9fa3_2c27d732bb6erow5_col0\" class=\"data row5 col0\" >0.129075</td>\n",
       "                        <td id=\"T_a084595d_60bb_11eb_9fa3_2c27d732bb6erow5_col1\" class=\"data row5 col1\" >-0.013657</td>\n",
       "                        <td id=\"T_a084595d_60bb_11eb_9fa3_2c27d732bb6erow5_col2\" class=\"data row5 col2\" >-0.050929</td>\n",
       "                        <td id=\"T_a084595d_60bb_11eb_9fa3_2c27d732bb6erow5_col3\" class=\"data row5 col3\" >0.196257</td>\n",
       "                        <td id=\"T_a084595d_60bb_11eb_9fa3_2c27d732bb6erow5_col4\" class=\"data row5 col4\" >0.059170</td>\n",
       "                        <td id=\"T_a084595d_60bb_11eb_9fa3_2c27d732bb6erow5_col5\" class=\"data row5 col5\" >1.000000</td>\n",
       "                        <td id=\"T_a084595d_60bb_11eb_9fa3_2c27d732bb6erow5_col6\" class=\"data row5 col6\" >0.277864</td>\n",
       "                        <td id=\"T_a084595d_60bb_11eb_9fa3_2c27d732bb6erow5_col7\" class=\"data row5 col7\" >0.054802</td>\n",
       "            </tr>\n",
       "            <tr>\n",
       "                        <th id=\"T_a084595d_60bb_11eb_9fa3_2c27d732bb6elevel0_row6\" class=\"row_heading level0 row6\" >euribor3m</th>\n",
       "                        <td id=\"T_a084595d_60bb_11eb_9fa3_2c27d732bb6erow6_col0\" class=\"data row6 col0\" >0.010852</td>\n",
       "                        <td id=\"T_a084595d_60bb_11eb_9fa3_2c27d732bb6erow6_col1\" class=\"data row6 col1\" >0.135169</td>\n",
       "                        <td id=\"T_a084595d_60bb_11eb_9fa3_2c27d732bb6erow6_col2\" class=\"data row6 col2\" >-0.454571</td>\n",
       "                        <td id=\"T_a084595d_60bb_11eb_9fa3_2c27d732bb6erow6_col3\" class=\"data row6 col3\" >0.972244</td>\n",
       "                        <td id=\"T_a084595d_60bb_11eb_9fa3_2c27d732bb6erow6_col4\" class=\"data row6 col4\" >0.688180</td>\n",
       "                        <td id=\"T_a084595d_60bb_11eb_9fa3_2c27d732bb6erow6_col5\" class=\"data row6 col5\" >0.277864</td>\n",
       "                        <td id=\"T_a084595d_60bb_11eb_9fa3_2c27d732bb6erow6_col6\" class=\"data row6 col6\" >1.000000</td>\n",
       "                        <td id=\"T_a084595d_60bb_11eb_9fa3_2c27d732bb6erow6_col7\" class=\"data row6 col7\" >-0.307740</td>\n",
       "            </tr>\n",
       "            <tr>\n",
       "                        <th id=\"T_a084595d_60bb_11eb_9fa3_2c27d732bb6elevel0_row7\" class=\"row_heading level0 row7\" >y</th>\n",
       "                        <td id=\"T_a084595d_60bb_11eb_9fa3_2c27d732bb6erow7_col0\" class=\"data row7 col0\" >0.030381</td>\n",
       "                        <td id=\"T_a084595d_60bb_11eb_9fa3_2c27d732bb6erow7_col1\" class=\"data row7 col1\" >-0.066361</td>\n",
       "                        <td id=\"T_a084595d_60bb_11eb_9fa3_2c27d732bb6erow7_col2\" class=\"data row7 col2\" >0.230202</td>\n",
       "                        <td id=\"T_a084595d_60bb_11eb_9fa3_2c27d732bb6erow7_col3\" class=\"data row7 col3\" >-0.298289</td>\n",
       "                        <td id=\"T_a084595d_60bb_11eb_9fa3_2c27d732bb6erow7_col4\" class=\"data row7 col4\" >-0.136134</td>\n",
       "                        <td id=\"T_a084595d_60bb_11eb_9fa3_2c27d732bb6erow7_col5\" class=\"data row7 col5\" >0.054802</td>\n",
       "                        <td id=\"T_a084595d_60bb_11eb_9fa3_2c27d732bb6erow7_col6\" class=\"data row7 col6\" >-0.307740</td>\n",
       "                        <td id=\"T_a084595d_60bb_11eb_9fa3_2c27d732bb6erow7_col7\" class=\"data row7 col7\" >1.000000</td>\n",
       "            </tr>\n",
       "    </tbody></table>"
      ],
      "text/plain": [
       "<pandas.io.formats.style.Styler at 0x1bbb6dbff70>"
      ]
     },
     "execution_count": 15,
     "metadata": {},
     "output_type": "execute_result"
    }
   ],
   "source": [
    "df.corr().style.applymap(color)"
   ]
  },
  {
   "cell_type": "code",
   "execution_count": 16,
   "metadata": {
    "ExecuteTime": {
     "end_time": "2021-01-27T16:20:53.355120Z",
     "start_time": "2021-01-27T16:20:53.325115Z"
    }
   },
   "outputs": [],
   "source": [
    "corr=df.corr()"
   ]
  },
  {
   "cell_type": "code",
   "execution_count": 17,
   "metadata": {
    "ExecuteTime": {
     "end_time": "2021-01-27T16:20:53.401119Z",
     "start_time": "2021-01-27T16:20:53.357117Z"
    }
   },
   "outputs": [],
   "source": [
    "import plotly.figure_factory as ff"
   ]
  },
  {
   "cell_type": "code",
   "execution_count": 18,
   "metadata": {
    "ExecuteTime": {
     "end_time": "2021-01-27T16:20:54.192113Z",
     "start_time": "2021-01-27T16:20:53.403114Z"
    }
   },
   "outputs": [
    {
     "data": {
      "application/vnd.plotly.v1+json": {
       "config": {
        "linkText": "Export to plot.ly",
        "plotlyServerURL": "https://plot.ly",
        "showLink": false
       },
       "data": [
        {
         "colorscale": [
          [
           0,
           "rgb(161, 105, 40)"
          ],
          [
           0.16666666666666666,
           "rgb(189, 146, 90)"
          ],
          [
           0.3333333333333333,
           "rgb(214, 189, 141)"
          ],
          [
           0.5,
           "rgb(237, 234, 194)"
          ],
          [
           0.6666666666666666,
           "rgb(181, 200, 184)"
          ],
          [
           0.8333333333333334,
           "rgb(121, 167, 172)"
          ],
          [
           1,
           "rgb(40, 135, 161)"
          ]
         ],
         "reversescale": false,
         "showscale": true,
         "type": "heatmap",
         "x": [
          "age",
          "campaign",
          "previous",
          "emp.var.rate",
          "cons.price.idx",
          "cons.conf.idx",
          "euribor3m",
          "y"
         ],
         "y": [
          "age",
          "campaign",
          "previous",
          "emp.var.rate",
          "cons.price.idx",
          "cons.conf.idx",
          "euribor3m",
          "y"
         ],
         "z": [
          [
           1,
           0.004621554404817797,
           0.02437878407695898,
           -0.00024210386575166545,
           0.001009414451219385,
           0.1290746476164905,
           0.010851508752398632,
           0.03038053621987327
          ],
          [
           0.004621554404817797,
           1,
           -0.07918189798423045,
           0.15078603405161617,
           0.12782620402593692,
           -0.01365672025467368,
           0.1351689570785292,
           -0.06636068437605905
          ],
          [
           0.02437878407695898,
           -0.07918189798423045,
           1,
           -0.420586524413024,
           -0.20319708087226965,
           -0.050928530469278574,
           -0.45457122513211085,
           0.2302015702154456
          ],
          [
           -0.00024210386575166545,
           0.15078603405161617,
           -0.420586524413024,
           1,
           0.7752934229607507,
           0.19625710914039907,
           0.9722438309797489,
           -0.2982885042462008
          ],
          [
           0.001009414451219385,
           0.12782620402593692,
           -0.20319708087226965,
           0.7752934229607507,
           1,
           0.059170137893189395,
           0.6881797725638759,
           -0.1361339710077712
          ],
          [
           0.1290746476164905,
           -0.01365672025467368,
           -0.050928530469278574,
           0.19625710914039907,
           0.059170137893189395,
           1,
           0.27786417262679425,
           0.0548018165095143
          ],
          [
           0.010851508752398632,
           0.1351689570785292,
           -0.45457122513211085,
           0.9722438309797489,
           0.6881797725638759,
           0.27786417262679425,
           1,
           -0.307740395584684
          ],
          [
           0.03038053621987327,
           -0.06636068437605905,
           0.2302015702154456,
           -0.2982885042462008,
           -0.1361339710077712,
           0.0548018165095143,
           -0.307740395584684,
           1
          ]
         ]
        }
       ],
       "layout": {
        "annotations": [
         {
          "font": {
           "color": "#FFFFFF"
          },
          "showarrow": false,
          "text": "1.0",
          "x": "age",
          "xref": "x",
          "y": "age",
          "yref": "y"
         },
         {
          "font": {
           "color": "#FFFFFF"
          },
          "showarrow": false,
          "text": "0.0",
          "x": "campaign",
          "xref": "x",
          "y": "age",
          "yref": "y"
         },
         {
          "font": {
           "color": "#FFFFFF"
          },
          "showarrow": false,
          "text": "0.02",
          "x": "previous",
          "xref": "x",
          "y": "age",
          "yref": "y"
         },
         {
          "font": {
           "color": "#FFFFFF"
          },
          "showarrow": false,
          "text": "-0.0",
          "x": "emp.var.rate",
          "xref": "x",
          "y": "age",
          "yref": "y"
         },
         {
          "font": {
           "color": "#FFFFFF"
          },
          "showarrow": false,
          "text": "0.0",
          "x": "cons.price.idx",
          "xref": "x",
          "y": "age",
          "yref": "y"
         },
         {
          "font": {
           "color": "#FFFFFF"
          },
          "showarrow": false,
          "text": "0.13",
          "x": "cons.conf.idx",
          "xref": "x",
          "y": "age",
          "yref": "y"
         },
         {
          "font": {
           "color": "#FFFFFF"
          },
          "showarrow": false,
          "text": "0.01",
          "x": "euribor3m",
          "xref": "x",
          "y": "age",
          "yref": "y"
         },
         {
          "font": {
           "color": "#FFFFFF"
          },
          "showarrow": false,
          "text": "0.03",
          "x": "y",
          "xref": "x",
          "y": "age",
          "yref": "y"
         },
         {
          "font": {
           "color": "#FFFFFF"
          },
          "showarrow": false,
          "text": "0.0",
          "x": "age",
          "xref": "x",
          "y": "campaign",
          "yref": "y"
         },
         {
          "font": {
           "color": "#FFFFFF"
          },
          "showarrow": false,
          "text": "1.0",
          "x": "campaign",
          "xref": "x",
          "y": "campaign",
          "yref": "y"
         },
         {
          "font": {
           "color": "#FFFFFF"
          },
          "showarrow": false,
          "text": "-0.08",
          "x": "previous",
          "xref": "x",
          "y": "campaign",
          "yref": "y"
         },
         {
          "font": {
           "color": "#FFFFFF"
          },
          "showarrow": false,
          "text": "0.15",
          "x": "emp.var.rate",
          "xref": "x",
          "y": "campaign",
          "yref": "y"
         },
         {
          "font": {
           "color": "#FFFFFF"
          },
          "showarrow": false,
          "text": "0.13",
          "x": "cons.price.idx",
          "xref": "x",
          "y": "campaign",
          "yref": "y"
         },
         {
          "font": {
           "color": "#FFFFFF"
          },
          "showarrow": false,
          "text": "-0.01",
          "x": "cons.conf.idx",
          "xref": "x",
          "y": "campaign",
          "yref": "y"
         },
         {
          "font": {
           "color": "#FFFFFF"
          },
          "showarrow": false,
          "text": "0.14",
          "x": "euribor3m",
          "xref": "x",
          "y": "campaign",
          "yref": "y"
         },
         {
          "font": {
           "color": "#FFFFFF"
          },
          "showarrow": false,
          "text": "-0.07",
          "x": "y",
          "xref": "x",
          "y": "campaign",
          "yref": "y"
         },
         {
          "font": {
           "color": "#FFFFFF"
          },
          "showarrow": false,
          "text": "0.02",
          "x": "age",
          "xref": "x",
          "y": "previous",
          "yref": "y"
         },
         {
          "font": {
           "color": "#FFFFFF"
          },
          "showarrow": false,
          "text": "-0.08",
          "x": "campaign",
          "xref": "x",
          "y": "previous",
          "yref": "y"
         },
         {
          "font": {
           "color": "#FFFFFF"
          },
          "showarrow": false,
          "text": "1.0",
          "x": "previous",
          "xref": "x",
          "y": "previous",
          "yref": "y"
         },
         {
          "font": {
           "color": "#FFFFFF"
          },
          "showarrow": false,
          "text": "-0.42",
          "x": "emp.var.rate",
          "xref": "x",
          "y": "previous",
          "yref": "y"
         },
         {
          "font": {
           "color": "#FFFFFF"
          },
          "showarrow": false,
          "text": "-0.2",
          "x": "cons.price.idx",
          "xref": "x",
          "y": "previous",
          "yref": "y"
         },
         {
          "font": {
           "color": "#FFFFFF"
          },
          "showarrow": false,
          "text": "-0.05",
          "x": "cons.conf.idx",
          "xref": "x",
          "y": "previous",
          "yref": "y"
         },
         {
          "font": {
           "color": "#FFFFFF"
          },
          "showarrow": false,
          "text": "-0.45",
          "x": "euribor3m",
          "xref": "x",
          "y": "previous",
          "yref": "y"
         },
         {
          "font": {
           "color": "#FFFFFF"
          },
          "showarrow": false,
          "text": "0.23",
          "x": "y",
          "xref": "x",
          "y": "previous",
          "yref": "y"
         },
         {
          "font": {
           "color": "#FFFFFF"
          },
          "showarrow": false,
          "text": "-0.0",
          "x": "age",
          "xref": "x",
          "y": "emp.var.rate",
          "yref": "y"
         },
         {
          "font": {
           "color": "#FFFFFF"
          },
          "showarrow": false,
          "text": "0.15",
          "x": "campaign",
          "xref": "x",
          "y": "emp.var.rate",
          "yref": "y"
         },
         {
          "font": {
           "color": "#FFFFFF"
          },
          "showarrow": false,
          "text": "-0.42",
          "x": "previous",
          "xref": "x",
          "y": "emp.var.rate",
          "yref": "y"
         },
         {
          "font": {
           "color": "#FFFFFF"
          },
          "showarrow": false,
          "text": "1.0",
          "x": "emp.var.rate",
          "xref": "x",
          "y": "emp.var.rate",
          "yref": "y"
         },
         {
          "font": {
           "color": "#FFFFFF"
          },
          "showarrow": false,
          "text": "0.78",
          "x": "cons.price.idx",
          "xref": "x",
          "y": "emp.var.rate",
          "yref": "y"
         },
         {
          "font": {
           "color": "#FFFFFF"
          },
          "showarrow": false,
          "text": "0.2",
          "x": "cons.conf.idx",
          "xref": "x",
          "y": "emp.var.rate",
          "yref": "y"
         },
         {
          "font": {
           "color": "#FFFFFF"
          },
          "showarrow": false,
          "text": "0.97",
          "x": "euribor3m",
          "xref": "x",
          "y": "emp.var.rate",
          "yref": "y"
         },
         {
          "font": {
           "color": "#FFFFFF"
          },
          "showarrow": false,
          "text": "-0.3",
          "x": "y",
          "xref": "x",
          "y": "emp.var.rate",
          "yref": "y"
         },
         {
          "font": {
           "color": "#FFFFFF"
          },
          "showarrow": false,
          "text": "0.0",
          "x": "age",
          "xref": "x",
          "y": "cons.price.idx",
          "yref": "y"
         },
         {
          "font": {
           "color": "#FFFFFF"
          },
          "showarrow": false,
          "text": "0.13",
          "x": "campaign",
          "xref": "x",
          "y": "cons.price.idx",
          "yref": "y"
         },
         {
          "font": {
           "color": "#FFFFFF"
          },
          "showarrow": false,
          "text": "-0.2",
          "x": "previous",
          "xref": "x",
          "y": "cons.price.idx",
          "yref": "y"
         },
         {
          "font": {
           "color": "#FFFFFF"
          },
          "showarrow": false,
          "text": "0.78",
          "x": "emp.var.rate",
          "xref": "x",
          "y": "cons.price.idx",
          "yref": "y"
         },
         {
          "font": {
           "color": "#FFFFFF"
          },
          "showarrow": false,
          "text": "1.0",
          "x": "cons.price.idx",
          "xref": "x",
          "y": "cons.price.idx",
          "yref": "y"
         },
         {
          "font": {
           "color": "#FFFFFF"
          },
          "showarrow": false,
          "text": "0.06",
          "x": "cons.conf.idx",
          "xref": "x",
          "y": "cons.price.idx",
          "yref": "y"
         },
         {
          "font": {
           "color": "#FFFFFF"
          },
          "showarrow": false,
          "text": "0.69",
          "x": "euribor3m",
          "xref": "x",
          "y": "cons.price.idx",
          "yref": "y"
         },
         {
          "font": {
           "color": "#FFFFFF"
          },
          "showarrow": false,
          "text": "-0.14",
          "x": "y",
          "xref": "x",
          "y": "cons.price.idx",
          "yref": "y"
         },
         {
          "font": {
           "color": "#FFFFFF"
          },
          "showarrow": false,
          "text": "0.13",
          "x": "age",
          "xref": "x",
          "y": "cons.conf.idx",
          "yref": "y"
         },
         {
          "font": {
           "color": "#FFFFFF"
          },
          "showarrow": false,
          "text": "-0.01",
          "x": "campaign",
          "xref": "x",
          "y": "cons.conf.idx",
          "yref": "y"
         },
         {
          "font": {
           "color": "#FFFFFF"
          },
          "showarrow": false,
          "text": "-0.05",
          "x": "previous",
          "xref": "x",
          "y": "cons.conf.idx",
          "yref": "y"
         },
         {
          "font": {
           "color": "#FFFFFF"
          },
          "showarrow": false,
          "text": "0.2",
          "x": "emp.var.rate",
          "xref": "x",
          "y": "cons.conf.idx",
          "yref": "y"
         },
         {
          "font": {
           "color": "#FFFFFF"
          },
          "showarrow": false,
          "text": "0.06",
          "x": "cons.price.idx",
          "xref": "x",
          "y": "cons.conf.idx",
          "yref": "y"
         },
         {
          "font": {
           "color": "#FFFFFF"
          },
          "showarrow": false,
          "text": "1.0",
          "x": "cons.conf.idx",
          "xref": "x",
          "y": "cons.conf.idx",
          "yref": "y"
         },
         {
          "font": {
           "color": "#FFFFFF"
          },
          "showarrow": false,
          "text": "0.28",
          "x": "euribor3m",
          "xref": "x",
          "y": "cons.conf.idx",
          "yref": "y"
         },
         {
          "font": {
           "color": "#FFFFFF"
          },
          "showarrow": false,
          "text": "0.05",
          "x": "y",
          "xref": "x",
          "y": "cons.conf.idx",
          "yref": "y"
         },
         {
          "font": {
           "color": "#FFFFFF"
          },
          "showarrow": false,
          "text": "0.01",
          "x": "age",
          "xref": "x",
          "y": "euribor3m",
          "yref": "y"
         },
         {
          "font": {
           "color": "#FFFFFF"
          },
          "showarrow": false,
          "text": "0.14",
          "x": "campaign",
          "xref": "x",
          "y": "euribor3m",
          "yref": "y"
         },
         {
          "font": {
           "color": "#FFFFFF"
          },
          "showarrow": false,
          "text": "-0.45",
          "x": "previous",
          "xref": "x",
          "y": "euribor3m",
          "yref": "y"
         },
         {
          "font": {
           "color": "#FFFFFF"
          },
          "showarrow": false,
          "text": "0.97",
          "x": "emp.var.rate",
          "xref": "x",
          "y": "euribor3m",
          "yref": "y"
         },
         {
          "font": {
           "color": "#FFFFFF"
          },
          "showarrow": false,
          "text": "0.69",
          "x": "cons.price.idx",
          "xref": "x",
          "y": "euribor3m",
          "yref": "y"
         },
         {
          "font": {
           "color": "#FFFFFF"
          },
          "showarrow": false,
          "text": "0.28",
          "x": "cons.conf.idx",
          "xref": "x",
          "y": "euribor3m",
          "yref": "y"
         },
         {
          "font": {
           "color": "#FFFFFF"
          },
          "showarrow": false,
          "text": "1.0",
          "x": "euribor3m",
          "xref": "x",
          "y": "euribor3m",
          "yref": "y"
         },
         {
          "font": {
           "color": "#FFFFFF"
          },
          "showarrow": false,
          "text": "-0.31",
          "x": "y",
          "xref": "x",
          "y": "euribor3m",
          "yref": "y"
         },
         {
          "font": {
           "color": "#FFFFFF"
          },
          "showarrow": false,
          "text": "0.03",
          "x": "age",
          "xref": "x",
          "y": "y",
          "yref": "y"
         },
         {
          "font": {
           "color": "#FFFFFF"
          },
          "showarrow": false,
          "text": "-0.07",
          "x": "campaign",
          "xref": "x",
          "y": "y",
          "yref": "y"
         },
         {
          "font": {
           "color": "#FFFFFF"
          },
          "showarrow": false,
          "text": "0.23",
          "x": "previous",
          "xref": "x",
          "y": "y",
          "yref": "y"
         },
         {
          "font": {
           "color": "#FFFFFF"
          },
          "showarrow": false,
          "text": "-0.3",
          "x": "emp.var.rate",
          "xref": "x",
          "y": "y",
          "yref": "y"
         },
         {
          "font": {
           "color": "#FFFFFF"
          },
          "showarrow": false,
          "text": "-0.14",
          "x": "cons.price.idx",
          "xref": "x",
          "y": "y",
          "yref": "y"
         },
         {
          "font": {
           "color": "#FFFFFF"
          },
          "showarrow": false,
          "text": "0.05",
          "x": "cons.conf.idx",
          "xref": "x",
          "y": "y",
          "yref": "y"
         },
         {
          "font": {
           "color": "#FFFFFF"
          },
          "showarrow": false,
          "text": "-0.31",
          "x": "euribor3m",
          "xref": "x",
          "y": "y",
          "yref": "y"
         },
         {
          "font": {
           "color": "#FFFFFF"
          },
          "showarrow": false,
          "text": "1.0",
          "x": "y",
          "xref": "x",
          "y": "y",
          "yref": "y"
         }
        ],
        "height": 800,
        "margin": {
         "l": 200,
         "t": 200
        },
        "template": {
         "data": {
          "bar": [
           {
            "error_x": {
             "color": "#2a3f5f"
            },
            "error_y": {
             "color": "#2a3f5f"
            },
            "marker": {
             "line": {
              "color": "#E5ECF6",
              "width": 0.5
             }
            },
            "type": "bar"
           }
          ],
          "barpolar": [
           {
            "marker": {
             "line": {
              "color": "#E5ECF6",
              "width": 0.5
             }
            },
            "type": "barpolar"
           }
          ],
          "carpet": [
           {
            "aaxis": {
             "endlinecolor": "#2a3f5f",
             "gridcolor": "white",
             "linecolor": "white",
             "minorgridcolor": "white",
             "startlinecolor": "#2a3f5f"
            },
            "baxis": {
             "endlinecolor": "#2a3f5f",
             "gridcolor": "white",
             "linecolor": "white",
             "minorgridcolor": "white",
             "startlinecolor": "#2a3f5f"
            },
            "type": "carpet"
           }
          ],
          "choropleth": [
           {
            "colorbar": {
             "outlinewidth": 0,
             "ticks": ""
            },
            "type": "choropleth"
           }
          ],
          "contour": [
           {
            "colorbar": {
             "outlinewidth": 0,
             "ticks": ""
            },
            "colorscale": [
             [
              0,
              "#0d0887"
             ],
             [
              0.1111111111111111,
              "#46039f"
             ],
             [
              0.2222222222222222,
              "#7201a8"
             ],
             [
              0.3333333333333333,
              "#9c179e"
             ],
             [
              0.4444444444444444,
              "#bd3786"
             ],
             [
              0.5555555555555556,
              "#d8576b"
             ],
             [
              0.6666666666666666,
              "#ed7953"
             ],
             [
              0.7777777777777778,
              "#fb9f3a"
             ],
             [
              0.8888888888888888,
              "#fdca26"
             ],
             [
              1,
              "#f0f921"
             ]
            ],
            "type": "contour"
           }
          ],
          "contourcarpet": [
           {
            "colorbar": {
             "outlinewidth": 0,
             "ticks": ""
            },
            "type": "contourcarpet"
           }
          ],
          "heatmap": [
           {
            "colorbar": {
             "outlinewidth": 0,
             "ticks": ""
            },
            "colorscale": [
             [
              0,
              "#0d0887"
             ],
             [
              0.1111111111111111,
              "#46039f"
             ],
             [
              0.2222222222222222,
              "#7201a8"
             ],
             [
              0.3333333333333333,
              "#9c179e"
             ],
             [
              0.4444444444444444,
              "#bd3786"
             ],
             [
              0.5555555555555556,
              "#d8576b"
             ],
             [
              0.6666666666666666,
              "#ed7953"
             ],
             [
              0.7777777777777778,
              "#fb9f3a"
             ],
             [
              0.8888888888888888,
              "#fdca26"
             ],
             [
              1,
              "#f0f921"
             ]
            ],
            "type": "heatmap"
           }
          ],
          "heatmapgl": [
           {
            "colorbar": {
             "outlinewidth": 0,
             "ticks": ""
            },
            "colorscale": [
             [
              0,
              "#0d0887"
             ],
             [
              0.1111111111111111,
              "#46039f"
             ],
             [
              0.2222222222222222,
              "#7201a8"
             ],
             [
              0.3333333333333333,
              "#9c179e"
             ],
             [
              0.4444444444444444,
              "#bd3786"
             ],
             [
              0.5555555555555556,
              "#d8576b"
             ],
             [
              0.6666666666666666,
              "#ed7953"
             ],
             [
              0.7777777777777778,
              "#fb9f3a"
             ],
             [
              0.8888888888888888,
              "#fdca26"
             ],
             [
              1,
              "#f0f921"
             ]
            ],
            "type": "heatmapgl"
           }
          ],
          "histogram": [
           {
            "marker": {
             "colorbar": {
              "outlinewidth": 0,
              "ticks": ""
             }
            },
            "type": "histogram"
           }
          ],
          "histogram2d": [
           {
            "colorbar": {
             "outlinewidth": 0,
             "ticks": ""
            },
            "colorscale": [
             [
              0,
              "#0d0887"
             ],
             [
              0.1111111111111111,
              "#46039f"
             ],
             [
              0.2222222222222222,
              "#7201a8"
             ],
             [
              0.3333333333333333,
              "#9c179e"
             ],
             [
              0.4444444444444444,
              "#bd3786"
             ],
             [
              0.5555555555555556,
              "#d8576b"
             ],
             [
              0.6666666666666666,
              "#ed7953"
             ],
             [
              0.7777777777777778,
              "#fb9f3a"
             ],
             [
              0.8888888888888888,
              "#fdca26"
             ],
             [
              1,
              "#f0f921"
             ]
            ],
            "type": "histogram2d"
           }
          ],
          "histogram2dcontour": [
           {
            "colorbar": {
             "outlinewidth": 0,
             "ticks": ""
            },
            "colorscale": [
             [
              0,
              "#0d0887"
             ],
             [
              0.1111111111111111,
              "#46039f"
             ],
             [
              0.2222222222222222,
              "#7201a8"
             ],
             [
              0.3333333333333333,
              "#9c179e"
             ],
             [
              0.4444444444444444,
              "#bd3786"
             ],
             [
              0.5555555555555556,
              "#d8576b"
             ],
             [
              0.6666666666666666,
              "#ed7953"
             ],
             [
              0.7777777777777778,
              "#fb9f3a"
             ],
             [
              0.8888888888888888,
              "#fdca26"
             ],
             [
              1,
              "#f0f921"
             ]
            ],
            "type": "histogram2dcontour"
           }
          ],
          "mesh3d": [
           {
            "colorbar": {
             "outlinewidth": 0,
             "ticks": ""
            },
            "type": "mesh3d"
           }
          ],
          "parcoords": [
           {
            "line": {
             "colorbar": {
              "outlinewidth": 0,
              "ticks": ""
             }
            },
            "type": "parcoords"
           }
          ],
          "pie": [
           {
            "automargin": true,
            "type": "pie"
           }
          ],
          "scatter": [
           {
            "marker": {
             "colorbar": {
              "outlinewidth": 0,
              "ticks": ""
             }
            },
            "type": "scatter"
           }
          ],
          "scatter3d": [
           {
            "line": {
             "colorbar": {
              "outlinewidth": 0,
              "ticks": ""
             }
            },
            "marker": {
             "colorbar": {
              "outlinewidth": 0,
              "ticks": ""
             }
            },
            "type": "scatter3d"
           }
          ],
          "scattercarpet": [
           {
            "marker": {
             "colorbar": {
              "outlinewidth": 0,
              "ticks": ""
             }
            },
            "type": "scattercarpet"
           }
          ],
          "scattergeo": [
           {
            "marker": {
             "colorbar": {
              "outlinewidth": 0,
              "ticks": ""
             }
            },
            "type": "scattergeo"
           }
          ],
          "scattergl": [
           {
            "marker": {
             "colorbar": {
              "outlinewidth": 0,
              "ticks": ""
             }
            },
            "type": "scattergl"
           }
          ],
          "scattermapbox": [
           {
            "marker": {
             "colorbar": {
              "outlinewidth": 0,
              "ticks": ""
             }
            },
            "type": "scattermapbox"
           }
          ],
          "scatterpolar": [
           {
            "marker": {
             "colorbar": {
              "outlinewidth": 0,
              "ticks": ""
             }
            },
            "type": "scatterpolar"
           }
          ],
          "scatterpolargl": [
           {
            "marker": {
             "colorbar": {
              "outlinewidth": 0,
              "ticks": ""
             }
            },
            "type": "scatterpolargl"
           }
          ],
          "scatterternary": [
           {
            "marker": {
             "colorbar": {
              "outlinewidth": 0,
              "ticks": ""
             }
            },
            "type": "scatterternary"
           }
          ],
          "surface": [
           {
            "colorbar": {
             "outlinewidth": 0,
             "ticks": ""
            },
            "colorscale": [
             [
              0,
              "#0d0887"
             ],
             [
              0.1111111111111111,
              "#46039f"
             ],
             [
              0.2222222222222222,
              "#7201a8"
             ],
             [
              0.3333333333333333,
              "#9c179e"
             ],
             [
              0.4444444444444444,
              "#bd3786"
             ],
             [
              0.5555555555555556,
              "#d8576b"
             ],
             [
              0.6666666666666666,
              "#ed7953"
             ],
             [
              0.7777777777777778,
              "#fb9f3a"
             ],
             [
              0.8888888888888888,
              "#fdca26"
             ],
             [
              1,
              "#f0f921"
             ]
            ],
            "type": "surface"
           }
          ],
          "table": [
           {
            "cells": {
             "fill": {
              "color": "#EBF0F8"
             },
             "line": {
              "color": "white"
             }
            },
            "header": {
             "fill": {
              "color": "#C8D4E3"
             },
             "line": {
              "color": "white"
             }
            },
            "type": "table"
           }
          ]
         },
         "layout": {
          "annotationdefaults": {
           "arrowcolor": "#2a3f5f",
           "arrowhead": 0,
           "arrowwidth": 1
          },
          "autotypenumbers": "strict",
          "coloraxis": {
           "colorbar": {
            "outlinewidth": 0,
            "ticks": ""
           }
          },
          "colorscale": {
           "diverging": [
            [
             0,
             "#8e0152"
            ],
            [
             0.1,
             "#c51b7d"
            ],
            [
             0.2,
             "#de77ae"
            ],
            [
             0.3,
             "#f1b6da"
            ],
            [
             0.4,
             "#fde0ef"
            ],
            [
             0.5,
             "#f7f7f7"
            ],
            [
             0.6,
             "#e6f5d0"
            ],
            [
             0.7,
             "#b8e186"
            ],
            [
             0.8,
             "#7fbc41"
            ],
            [
             0.9,
             "#4d9221"
            ],
            [
             1,
             "#276419"
            ]
           ],
           "sequential": [
            [
             0,
             "#0d0887"
            ],
            [
             0.1111111111111111,
             "#46039f"
            ],
            [
             0.2222222222222222,
             "#7201a8"
            ],
            [
             0.3333333333333333,
             "#9c179e"
            ],
            [
             0.4444444444444444,
             "#bd3786"
            ],
            [
             0.5555555555555556,
             "#d8576b"
            ],
            [
             0.6666666666666666,
             "#ed7953"
            ],
            [
             0.7777777777777778,
             "#fb9f3a"
            ],
            [
             0.8888888888888888,
             "#fdca26"
            ],
            [
             1,
             "#f0f921"
            ]
           ],
           "sequentialminus": [
            [
             0,
             "#0d0887"
            ],
            [
             0.1111111111111111,
             "#46039f"
            ],
            [
             0.2222222222222222,
             "#7201a8"
            ],
            [
             0.3333333333333333,
             "#9c179e"
            ],
            [
             0.4444444444444444,
             "#bd3786"
            ],
            [
             0.5555555555555556,
             "#d8576b"
            ],
            [
             0.6666666666666666,
             "#ed7953"
            ],
            [
             0.7777777777777778,
             "#fb9f3a"
            ],
            [
             0.8888888888888888,
             "#fdca26"
            ],
            [
             1,
             "#f0f921"
            ]
           ]
          },
          "colorway": [
           "#636efa",
           "#EF553B",
           "#00cc96",
           "#ab63fa",
           "#FFA15A",
           "#19d3f3",
           "#FF6692",
           "#B6E880",
           "#FF97FF",
           "#FECB52"
          ],
          "font": {
           "color": "#2a3f5f"
          },
          "geo": {
           "bgcolor": "white",
           "lakecolor": "white",
           "landcolor": "#E5ECF6",
           "showlakes": true,
           "showland": true,
           "subunitcolor": "white"
          },
          "hoverlabel": {
           "align": "left"
          },
          "hovermode": "closest",
          "mapbox": {
           "style": "light"
          },
          "paper_bgcolor": "white",
          "plot_bgcolor": "#E5ECF6",
          "polar": {
           "angularaxis": {
            "gridcolor": "white",
            "linecolor": "white",
            "ticks": ""
           },
           "bgcolor": "#E5ECF6",
           "radialaxis": {
            "gridcolor": "white",
            "linecolor": "white",
            "ticks": ""
           }
          },
          "scene": {
           "xaxis": {
            "backgroundcolor": "#E5ECF6",
            "gridcolor": "white",
            "gridwidth": 2,
            "linecolor": "white",
            "showbackground": true,
            "ticks": "",
            "zerolinecolor": "white"
           },
           "yaxis": {
            "backgroundcolor": "#E5ECF6",
            "gridcolor": "white",
            "gridwidth": 2,
            "linecolor": "white",
            "showbackground": true,
            "ticks": "",
            "zerolinecolor": "white"
           },
           "zaxis": {
            "backgroundcolor": "#E5ECF6",
            "gridcolor": "white",
            "gridwidth": 2,
            "linecolor": "white",
            "showbackground": true,
            "ticks": "",
            "zerolinecolor": "white"
           }
          },
          "shapedefaults": {
           "line": {
            "color": "#2a3f5f"
           }
          },
          "ternary": {
           "aaxis": {
            "gridcolor": "white",
            "linecolor": "white",
            "ticks": ""
           },
           "baxis": {
            "gridcolor": "white",
            "linecolor": "white",
            "ticks": ""
           },
           "bgcolor": "#E5ECF6",
           "caxis": {
            "gridcolor": "white",
            "linecolor": "white",
            "ticks": ""
           }
          },
          "title": {
           "x": 0.05
          },
          "xaxis": {
           "automargin": true,
           "gridcolor": "white",
           "linecolor": "white",
           "ticks": "",
           "title": {
            "standoff": 15
           },
           "zerolinecolor": "white",
           "zerolinewidth": 2
          },
          "yaxis": {
           "automargin": true,
           "gridcolor": "white",
           "linecolor": "white",
           "ticks": "",
           "title": {
            "standoff": 15
           },
           "zerolinecolor": "white",
           "zerolinewidth": 2
          }
         }
        },
        "width": 1000,
        "xaxis": {
         "dtick": 1,
         "gridcolor": "rgb(0, 0, 0)",
         "side": "top",
         "ticks": ""
        },
        "yaxis": {
         "dtick": 1,
         "ticks": "",
         "ticksuffix": "  "
        }
       }
      },
      "text/html": [
       "<div>                            <div id=\"fab63d96-6d5f-4906-b5a6-8d5010c52835\" class=\"plotly-graph-div\" style=\"height:800px; width:1000px;\"></div>            <script type=\"text/javascript\">                require([\"plotly\"], function(Plotly) {                    window.PLOTLYENV=window.PLOTLYENV || {};                                    if (document.getElementById(\"fab63d96-6d5f-4906-b5a6-8d5010c52835\")) {                    Plotly.newPlot(                        \"fab63d96-6d5f-4906-b5a6-8d5010c52835\",                        [{\"colorscale\": [[0.0, \"rgb(161, 105, 40)\"], [0.16666666666666666, \"rgb(189, 146, 90)\"], [0.3333333333333333, \"rgb(214, 189, 141)\"], [0.5, \"rgb(237, 234, 194)\"], [0.6666666666666666, \"rgb(181, 200, 184)\"], [0.8333333333333334, \"rgb(121, 167, 172)\"], [1.0, \"rgb(40, 135, 161)\"]], \"reversescale\": false, \"showscale\": true, \"type\": \"heatmap\", \"x\": [\"age\", \"campaign\", \"previous\", \"emp.var.rate\", \"cons.price.idx\", \"cons.conf.idx\", \"euribor3m\", \"y\"], \"y\": [\"age\", \"campaign\", \"previous\", \"emp.var.rate\", \"cons.price.idx\", \"cons.conf.idx\", \"euribor3m\", \"y\"], \"z\": [[1.0, 0.004621554404817797, 0.02437878407695898, -0.00024210386575166545, 0.001009414451219385, 0.1290746476164905, 0.010851508752398632, 0.03038053621987327], [0.004621554404817797, 1.0, -0.07918189798423045, 0.15078603405161617, 0.12782620402593692, -0.01365672025467368, 0.1351689570785292, -0.06636068437605905], [0.02437878407695898, -0.07918189798423045, 1.0, -0.420586524413024, -0.20319708087226965, -0.050928530469278574, -0.45457122513211085, 0.2302015702154456], [-0.00024210386575166545, 0.15078603405161617, -0.420586524413024, 1.0, 0.7752934229607507, 0.19625710914039907, 0.9722438309797489, -0.2982885042462008], [0.001009414451219385, 0.12782620402593692, -0.20319708087226965, 0.7752934229607507, 1.0, 0.059170137893189395, 0.6881797725638759, -0.1361339710077712], [0.1290746476164905, -0.01365672025467368, -0.050928530469278574, 0.19625710914039907, 0.059170137893189395, 1.0, 0.27786417262679425, 0.0548018165095143], [0.010851508752398632, 0.1351689570785292, -0.45457122513211085, 0.9722438309797489, 0.6881797725638759, 0.27786417262679425, 1.0, -0.307740395584684], [0.03038053621987327, -0.06636068437605905, 0.2302015702154456, -0.2982885042462008, -0.1361339710077712, 0.0548018165095143, -0.307740395584684, 1.0]]}],                        {\"annotations\": [{\"font\": {\"color\": \"#FFFFFF\"}, \"showarrow\": false, \"text\": \"1.0\", \"x\": \"age\", \"xref\": \"x\", \"y\": \"age\", \"yref\": \"y\"}, {\"font\": {\"color\": \"#FFFFFF\"}, \"showarrow\": false, \"text\": \"0.0\", \"x\": \"campaign\", \"xref\": \"x\", \"y\": \"age\", \"yref\": \"y\"}, {\"font\": {\"color\": \"#FFFFFF\"}, \"showarrow\": false, \"text\": \"0.02\", \"x\": \"previous\", \"xref\": \"x\", \"y\": \"age\", \"yref\": \"y\"}, {\"font\": {\"color\": \"#FFFFFF\"}, \"showarrow\": false, \"text\": \"-0.0\", \"x\": \"emp.var.rate\", \"xref\": \"x\", \"y\": \"age\", \"yref\": \"y\"}, {\"font\": {\"color\": \"#FFFFFF\"}, \"showarrow\": false, \"text\": \"0.0\", \"x\": \"cons.price.idx\", \"xref\": \"x\", \"y\": \"age\", \"yref\": \"y\"}, {\"font\": {\"color\": \"#FFFFFF\"}, \"showarrow\": false, \"text\": \"0.13\", \"x\": \"cons.conf.idx\", \"xref\": \"x\", \"y\": \"age\", \"yref\": \"y\"}, {\"font\": {\"color\": \"#FFFFFF\"}, \"showarrow\": false, \"text\": \"0.01\", \"x\": \"euribor3m\", \"xref\": \"x\", \"y\": \"age\", \"yref\": \"y\"}, {\"font\": {\"color\": \"#FFFFFF\"}, \"showarrow\": false, \"text\": \"0.03\", \"x\": \"y\", \"xref\": \"x\", \"y\": \"age\", \"yref\": \"y\"}, {\"font\": {\"color\": \"#FFFFFF\"}, \"showarrow\": false, \"text\": \"0.0\", \"x\": \"age\", \"xref\": \"x\", \"y\": \"campaign\", \"yref\": \"y\"}, {\"font\": {\"color\": \"#FFFFFF\"}, \"showarrow\": false, \"text\": \"1.0\", \"x\": \"campaign\", \"xref\": \"x\", \"y\": \"campaign\", \"yref\": \"y\"}, {\"font\": {\"color\": \"#FFFFFF\"}, \"showarrow\": false, \"text\": \"-0.08\", \"x\": \"previous\", \"xref\": \"x\", \"y\": \"campaign\", \"yref\": \"y\"}, {\"font\": {\"color\": \"#FFFFFF\"}, \"showarrow\": false, \"text\": \"0.15\", \"x\": \"emp.var.rate\", \"xref\": \"x\", \"y\": \"campaign\", \"yref\": \"y\"}, {\"font\": {\"color\": \"#FFFFFF\"}, \"showarrow\": false, \"text\": \"0.13\", \"x\": \"cons.price.idx\", \"xref\": \"x\", \"y\": \"campaign\", \"yref\": \"y\"}, {\"font\": {\"color\": \"#FFFFFF\"}, \"showarrow\": false, \"text\": \"-0.01\", \"x\": \"cons.conf.idx\", \"xref\": \"x\", \"y\": \"campaign\", \"yref\": \"y\"}, {\"font\": {\"color\": \"#FFFFFF\"}, \"showarrow\": false, \"text\": \"0.14\", \"x\": \"euribor3m\", \"xref\": \"x\", \"y\": \"campaign\", \"yref\": \"y\"}, {\"font\": {\"color\": \"#FFFFFF\"}, \"showarrow\": false, \"text\": \"-0.07\", \"x\": \"y\", \"xref\": \"x\", \"y\": \"campaign\", \"yref\": \"y\"}, {\"font\": {\"color\": \"#FFFFFF\"}, \"showarrow\": false, \"text\": \"0.02\", \"x\": \"age\", \"xref\": \"x\", \"y\": \"previous\", \"yref\": \"y\"}, {\"font\": {\"color\": \"#FFFFFF\"}, \"showarrow\": false, \"text\": \"-0.08\", \"x\": \"campaign\", \"xref\": \"x\", \"y\": \"previous\", \"yref\": \"y\"}, {\"font\": {\"color\": \"#FFFFFF\"}, \"showarrow\": false, \"text\": \"1.0\", \"x\": \"previous\", \"xref\": \"x\", \"y\": \"previous\", \"yref\": \"y\"}, {\"font\": {\"color\": \"#FFFFFF\"}, \"showarrow\": false, \"text\": \"-0.42\", \"x\": \"emp.var.rate\", \"xref\": \"x\", \"y\": \"previous\", \"yref\": \"y\"}, {\"font\": {\"color\": \"#FFFFFF\"}, \"showarrow\": false, \"text\": \"-0.2\", \"x\": \"cons.price.idx\", \"xref\": \"x\", \"y\": \"previous\", \"yref\": \"y\"}, {\"font\": {\"color\": \"#FFFFFF\"}, \"showarrow\": false, \"text\": \"-0.05\", \"x\": \"cons.conf.idx\", \"xref\": \"x\", \"y\": \"previous\", \"yref\": \"y\"}, {\"font\": {\"color\": \"#FFFFFF\"}, \"showarrow\": false, \"text\": \"-0.45\", \"x\": \"euribor3m\", \"xref\": \"x\", \"y\": \"previous\", \"yref\": \"y\"}, {\"font\": {\"color\": \"#FFFFFF\"}, \"showarrow\": false, \"text\": \"0.23\", \"x\": \"y\", \"xref\": \"x\", \"y\": \"previous\", \"yref\": \"y\"}, {\"font\": {\"color\": \"#FFFFFF\"}, \"showarrow\": false, \"text\": \"-0.0\", \"x\": \"age\", \"xref\": \"x\", \"y\": \"emp.var.rate\", \"yref\": \"y\"}, {\"font\": {\"color\": \"#FFFFFF\"}, \"showarrow\": false, \"text\": \"0.15\", \"x\": \"campaign\", \"xref\": \"x\", \"y\": \"emp.var.rate\", \"yref\": \"y\"}, {\"font\": {\"color\": \"#FFFFFF\"}, \"showarrow\": false, \"text\": \"-0.42\", \"x\": \"previous\", \"xref\": \"x\", \"y\": \"emp.var.rate\", \"yref\": \"y\"}, {\"font\": {\"color\": \"#FFFFFF\"}, \"showarrow\": false, \"text\": \"1.0\", \"x\": \"emp.var.rate\", \"xref\": \"x\", \"y\": \"emp.var.rate\", \"yref\": \"y\"}, {\"font\": {\"color\": \"#FFFFFF\"}, \"showarrow\": false, \"text\": \"0.78\", \"x\": \"cons.price.idx\", \"xref\": \"x\", \"y\": \"emp.var.rate\", \"yref\": \"y\"}, {\"font\": {\"color\": \"#FFFFFF\"}, \"showarrow\": false, \"text\": \"0.2\", \"x\": \"cons.conf.idx\", \"xref\": \"x\", \"y\": \"emp.var.rate\", \"yref\": \"y\"}, {\"font\": {\"color\": \"#FFFFFF\"}, \"showarrow\": false, \"text\": \"0.97\", \"x\": \"euribor3m\", \"xref\": \"x\", \"y\": \"emp.var.rate\", \"yref\": \"y\"}, {\"font\": {\"color\": \"#FFFFFF\"}, \"showarrow\": false, \"text\": \"-0.3\", \"x\": \"y\", \"xref\": \"x\", \"y\": \"emp.var.rate\", \"yref\": \"y\"}, {\"font\": {\"color\": \"#FFFFFF\"}, \"showarrow\": false, \"text\": \"0.0\", \"x\": \"age\", \"xref\": \"x\", \"y\": \"cons.price.idx\", \"yref\": \"y\"}, {\"font\": {\"color\": \"#FFFFFF\"}, \"showarrow\": false, \"text\": \"0.13\", \"x\": \"campaign\", \"xref\": \"x\", \"y\": \"cons.price.idx\", \"yref\": \"y\"}, {\"font\": {\"color\": \"#FFFFFF\"}, \"showarrow\": false, \"text\": \"-0.2\", \"x\": \"previous\", \"xref\": \"x\", \"y\": \"cons.price.idx\", \"yref\": \"y\"}, {\"font\": {\"color\": \"#FFFFFF\"}, \"showarrow\": false, \"text\": \"0.78\", \"x\": \"emp.var.rate\", \"xref\": \"x\", \"y\": \"cons.price.idx\", \"yref\": \"y\"}, {\"font\": {\"color\": \"#FFFFFF\"}, \"showarrow\": false, \"text\": \"1.0\", \"x\": \"cons.price.idx\", \"xref\": \"x\", \"y\": \"cons.price.idx\", \"yref\": \"y\"}, {\"font\": {\"color\": \"#FFFFFF\"}, \"showarrow\": false, \"text\": \"0.06\", \"x\": \"cons.conf.idx\", \"xref\": \"x\", \"y\": \"cons.price.idx\", \"yref\": \"y\"}, {\"font\": {\"color\": \"#FFFFFF\"}, \"showarrow\": false, \"text\": \"0.69\", \"x\": \"euribor3m\", \"xref\": \"x\", \"y\": \"cons.price.idx\", \"yref\": \"y\"}, {\"font\": {\"color\": \"#FFFFFF\"}, \"showarrow\": false, \"text\": \"-0.14\", \"x\": \"y\", \"xref\": \"x\", \"y\": \"cons.price.idx\", \"yref\": \"y\"}, {\"font\": {\"color\": \"#FFFFFF\"}, \"showarrow\": false, \"text\": \"0.13\", \"x\": \"age\", \"xref\": \"x\", \"y\": \"cons.conf.idx\", \"yref\": \"y\"}, {\"font\": {\"color\": \"#FFFFFF\"}, \"showarrow\": false, \"text\": \"-0.01\", \"x\": \"campaign\", \"xref\": \"x\", \"y\": \"cons.conf.idx\", \"yref\": \"y\"}, {\"font\": {\"color\": \"#FFFFFF\"}, \"showarrow\": false, \"text\": \"-0.05\", \"x\": \"previous\", \"xref\": \"x\", \"y\": \"cons.conf.idx\", \"yref\": \"y\"}, {\"font\": {\"color\": \"#FFFFFF\"}, \"showarrow\": false, \"text\": \"0.2\", \"x\": \"emp.var.rate\", \"xref\": \"x\", \"y\": \"cons.conf.idx\", \"yref\": \"y\"}, {\"font\": {\"color\": \"#FFFFFF\"}, \"showarrow\": false, \"text\": \"0.06\", \"x\": \"cons.price.idx\", \"xref\": \"x\", \"y\": \"cons.conf.idx\", \"yref\": \"y\"}, {\"font\": {\"color\": \"#FFFFFF\"}, \"showarrow\": false, \"text\": \"1.0\", \"x\": \"cons.conf.idx\", \"xref\": \"x\", \"y\": \"cons.conf.idx\", \"yref\": \"y\"}, {\"font\": {\"color\": \"#FFFFFF\"}, \"showarrow\": false, \"text\": \"0.28\", \"x\": \"euribor3m\", \"xref\": \"x\", \"y\": \"cons.conf.idx\", \"yref\": \"y\"}, {\"font\": {\"color\": \"#FFFFFF\"}, \"showarrow\": false, \"text\": \"0.05\", \"x\": \"y\", \"xref\": \"x\", \"y\": \"cons.conf.idx\", \"yref\": \"y\"}, {\"font\": {\"color\": \"#FFFFFF\"}, \"showarrow\": false, \"text\": \"0.01\", \"x\": \"age\", \"xref\": \"x\", \"y\": \"euribor3m\", \"yref\": \"y\"}, {\"font\": {\"color\": \"#FFFFFF\"}, \"showarrow\": false, \"text\": \"0.14\", \"x\": \"campaign\", \"xref\": \"x\", \"y\": \"euribor3m\", \"yref\": \"y\"}, {\"font\": {\"color\": \"#FFFFFF\"}, \"showarrow\": false, \"text\": \"-0.45\", \"x\": \"previous\", \"xref\": \"x\", \"y\": \"euribor3m\", \"yref\": \"y\"}, {\"font\": {\"color\": \"#FFFFFF\"}, \"showarrow\": false, \"text\": \"0.97\", \"x\": \"emp.var.rate\", \"xref\": \"x\", \"y\": \"euribor3m\", \"yref\": \"y\"}, {\"font\": {\"color\": \"#FFFFFF\"}, \"showarrow\": false, \"text\": \"0.69\", \"x\": \"cons.price.idx\", \"xref\": \"x\", \"y\": \"euribor3m\", \"yref\": \"y\"}, {\"font\": {\"color\": \"#FFFFFF\"}, \"showarrow\": false, \"text\": \"0.28\", \"x\": \"cons.conf.idx\", \"xref\": \"x\", \"y\": \"euribor3m\", \"yref\": \"y\"}, {\"font\": {\"color\": \"#FFFFFF\"}, \"showarrow\": false, \"text\": \"1.0\", \"x\": \"euribor3m\", \"xref\": \"x\", \"y\": \"euribor3m\", \"yref\": \"y\"}, {\"font\": {\"color\": \"#FFFFFF\"}, \"showarrow\": false, \"text\": \"-0.31\", \"x\": \"y\", \"xref\": \"x\", \"y\": \"euribor3m\", \"yref\": \"y\"}, {\"font\": {\"color\": \"#FFFFFF\"}, \"showarrow\": false, \"text\": \"0.03\", \"x\": \"age\", \"xref\": \"x\", \"y\": \"y\", \"yref\": \"y\"}, {\"font\": {\"color\": \"#FFFFFF\"}, \"showarrow\": false, \"text\": \"-0.07\", \"x\": \"campaign\", \"xref\": \"x\", \"y\": \"y\", \"yref\": \"y\"}, {\"font\": {\"color\": \"#FFFFFF\"}, \"showarrow\": false, \"text\": \"0.23\", \"x\": \"previous\", \"xref\": \"x\", \"y\": \"y\", \"yref\": \"y\"}, {\"font\": {\"color\": \"#FFFFFF\"}, \"showarrow\": false, \"text\": \"-0.3\", \"x\": \"emp.var.rate\", \"xref\": \"x\", \"y\": \"y\", \"yref\": \"y\"}, {\"font\": {\"color\": \"#FFFFFF\"}, \"showarrow\": false, \"text\": \"-0.14\", \"x\": \"cons.price.idx\", \"xref\": \"x\", \"y\": \"y\", \"yref\": \"y\"}, {\"font\": {\"color\": \"#FFFFFF\"}, \"showarrow\": false, \"text\": \"0.05\", \"x\": \"cons.conf.idx\", \"xref\": \"x\", \"y\": \"y\", \"yref\": \"y\"}, {\"font\": {\"color\": \"#FFFFFF\"}, \"showarrow\": false, \"text\": \"-0.31\", \"x\": \"euribor3m\", \"xref\": \"x\", \"y\": \"y\", \"yref\": \"y\"}, {\"font\": {\"color\": \"#FFFFFF\"}, \"showarrow\": false, \"text\": \"1.0\", \"x\": \"y\", \"xref\": \"x\", \"y\": \"y\", \"yref\": \"y\"}], \"height\": 800, \"margin\": {\"l\": 200, \"t\": 200}, \"template\": {\"data\": {\"bar\": [{\"error_x\": {\"color\": \"#2a3f5f\"}, \"error_y\": {\"color\": \"#2a3f5f\"}, \"marker\": {\"line\": {\"color\": \"#E5ECF6\", \"width\": 0.5}}, \"type\": \"bar\"}], \"barpolar\": [{\"marker\": {\"line\": {\"color\": \"#E5ECF6\", \"width\": 0.5}}, \"type\": \"barpolar\"}], \"carpet\": [{\"aaxis\": {\"endlinecolor\": \"#2a3f5f\", \"gridcolor\": \"white\", \"linecolor\": \"white\", \"minorgridcolor\": \"white\", \"startlinecolor\": \"#2a3f5f\"}, \"baxis\": {\"endlinecolor\": \"#2a3f5f\", \"gridcolor\": \"white\", \"linecolor\": \"white\", \"minorgridcolor\": \"white\", \"startlinecolor\": \"#2a3f5f\"}, \"type\": \"carpet\"}], \"choropleth\": [{\"colorbar\": {\"outlinewidth\": 0, \"ticks\": \"\"}, \"type\": \"choropleth\"}], \"contour\": [{\"colorbar\": {\"outlinewidth\": 0, \"ticks\": \"\"}, \"colorscale\": [[0.0, \"#0d0887\"], [0.1111111111111111, \"#46039f\"], [0.2222222222222222, \"#7201a8\"], [0.3333333333333333, \"#9c179e\"], [0.4444444444444444, \"#bd3786\"], [0.5555555555555556, \"#d8576b\"], [0.6666666666666666, \"#ed7953\"], [0.7777777777777778, \"#fb9f3a\"], [0.8888888888888888, \"#fdca26\"], [1.0, \"#f0f921\"]], \"type\": \"contour\"}], \"contourcarpet\": [{\"colorbar\": {\"outlinewidth\": 0, \"ticks\": \"\"}, \"type\": \"contourcarpet\"}], \"heatmap\": [{\"colorbar\": {\"outlinewidth\": 0, \"ticks\": \"\"}, \"colorscale\": [[0.0, \"#0d0887\"], [0.1111111111111111, \"#46039f\"], [0.2222222222222222, \"#7201a8\"], [0.3333333333333333, \"#9c179e\"], [0.4444444444444444, \"#bd3786\"], [0.5555555555555556, \"#d8576b\"], [0.6666666666666666, \"#ed7953\"], [0.7777777777777778, \"#fb9f3a\"], [0.8888888888888888, \"#fdca26\"], [1.0, \"#f0f921\"]], \"type\": \"heatmap\"}], \"heatmapgl\": [{\"colorbar\": {\"outlinewidth\": 0, \"ticks\": \"\"}, \"colorscale\": [[0.0, \"#0d0887\"], [0.1111111111111111, \"#46039f\"], [0.2222222222222222, \"#7201a8\"], [0.3333333333333333, \"#9c179e\"], [0.4444444444444444, \"#bd3786\"], [0.5555555555555556, \"#d8576b\"], [0.6666666666666666, \"#ed7953\"], [0.7777777777777778, \"#fb9f3a\"], [0.8888888888888888, \"#fdca26\"], [1.0, \"#f0f921\"]], \"type\": \"heatmapgl\"}], \"histogram\": [{\"marker\": {\"colorbar\": {\"outlinewidth\": 0, \"ticks\": \"\"}}, \"type\": \"histogram\"}], \"histogram2d\": [{\"colorbar\": {\"outlinewidth\": 0, \"ticks\": \"\"}, \"colorscale\": [[0.0, \"#0d0887\"], [0.1111111111111111, \"#46039f\"], [0.2222222222222222, \"#7201a8\"], [0.3333333333333333, \"#9c179e\"], [0.4444444444444444, \"#bd3786\"], [0.5555555555555556, \"#d8576b\"], [0.6666666666666666, \"#ed7953\"], [0.7777777777777778, \"#fb9f3a\"], [0.8888888888888888, \"#fdca26\"], [1.0, \"#f0f921\"]], \"type\": \"histogram2d\"}], \"histogram2dcontour\": [{\"colorbar\": {\"outlinewidth\": 0, \"ticks\": \"\"}, \"colorscale\": [[0.0, \"#0d0887\"], [0.1111111111111111, \"#46039f\"], [0.2222222222222222, \"#7201a8\"], [0.3333333333333333, \"#9c179e\"], [0.4444444444444444, \"#bd3786\"], [0.5555555555555556, \"#d8576b\"], [0.6666666666666666, \"#ed7953\"], [0.7777777777777778, \"#fb9f3a\"], [0.8888888888888888, \"#fdca26\"], [1.0, \"#f0f921\"]], \"type\": \"histogram2dcontour\"}], \"mesh3d\": [{\"colorbar\": {\"outlinewidth\": 0, \"ticks\": \"\"}, \"type\": \"mesh3d\"}], \"parcoords\": [{\"line\": {\"colorbar\": {\"outlinewidth\": 0, \"ticks\": \"\"}}, \"type\": \"parcoords\"}], \"pie\": [{\"automargin\": true, \"type\": \"pie\"}], \"scatter\": [{\"marker\": {\"colorbar\": {\"outlinewidth\": 0, \"ticks\": \"\"}}, \"type\": \"scatter\"}], \"scatter3d\": [{\"line\": {\"colorbar\": {\"outlinewidth\": 0, \"ticks\": \"\"}}, \"marker\": {\"colorbar\": {\"outlinewidth\": 0, \"ticks\": \"\"}}, \"type\": \"scatter3d\"}], \"scattercarpet\": [{\"marker\": {\"colorbar\": {\"outlinewidth\": 0, \"ticks\": \"\"}}, \"type\": \"scattercarpet\"}], \"scattergeo\": [{\"marker\": {\"colorbar\": {\"outlinewidth\": 0, \"ticks\": \"\"}}, \"type\": \"scattergeo\"}], \"scattergl\": [{\"marker\": {\"colorbar\": {\"outlinewidth\": 0, \"ticks\": \"\"}}, \"type\": \"scattergl\"}], \"scattermapbox\": [{\"marker\": {\"colorbar\": {\"outlinewidth\": 0, \"ticks\": \"\"}}, \"type\": \"scattermapbox\"}], \"scatterpolar\": [{\"marker\": {\"colorbar\": {\"outlinewidth\": 0, \"ticks\": \"\"}}, \"type\": \"scatterpolar\"}], \"scatterpolargl\": [{\"marker\": {\"colorbar\": {\"outlinewidth\": 0, \"ticks\": \"\"}}, \"type\": \"scatterpolargl\"}], \"scatterternary\": [{\"marker\": {\"colorbar\": {\"outlinewidth\": 0, \"ticks\": \"\"}}, \"type\": \"scatterternary\"}], \"surface\": [{\"colorbar\": {\"outlinewidth\": 0, \"ticks\": \"\"}, \"colorscale\": [[0.0, \"#0d0887\"], [0.1111111111111111, \"#46039f\"], [0.2222222222222222, \"#7201a8\"], [0.3333333333333333, \"#9c179e\"], [0.4444444444444444, \"#bd3786\"], [0.5555555555555556, \"#d8576b\"], [0.6666666666666666, \"#ed7953\"], [0.7777777777777778, \"#fb9f3a\"], [0.8888888888888888, \"#fdca26\"], [1.0, \"#f0f921\"]], \"type\": \"surface\"}], \"table\": [{\"cells\": {\"fill\": {\"color\": \"#EBF0F8\"}, \"line\": {\"color\": \"white\"}}, \"header\": {\"fill\": {\"color\": \"#C8D4E3\"}, \"line\": {\"color\": \"white\"}}, \"type\": \"table\"}]}, \"layout\": {\"annotationdefaults\": {\"arrowcolor\": \"#2a3f5f\", \"arrowhead\": 0, \"arrowwidth\": 1}, \"autotypenumbers\": \"strict\", \"coloraxis\": {\"colorbar\": {\"outlinewidth\": 0, \"ticks\": \"\"}}, \"colorscale\": {\"diverging\": [[0, \"#8e0152\"], [0.1, \"#c51b7d\"], [0.2, \"#de77ae\"], [0.3, \"#f1b6da\"], [0.4, \"#fde0ef\"], [0.5, \"#f7f7f7\"], [0.6, \"#e6f5d0\"], [0.7, \"#b8e186\"], [0.8, \"#7fbc41\"], [0.9, \"#4d9221\"], [1, \"#276419\"]], \"sequential\": [[0.0, \"#0d0887\"], [0.1111111111111111, \"#46039f\"], [0.2222222222222222, \"#7201a8\"], [0.3333333333333333, \"#9c179e\"], [0.4444444444444444, \"#bd3786\"], [0.5555555555555556, \"#d8576b\"], [0.6666666666666666, \"#ed7953\"], [0.7777777777777778, \"#fb9f3a\"], [0.8888888888888888, \"#fdca26\"], [1.0, \"#f0f921\"]], \"sequentialminus\": [[0.0, \"#0d0887\"], [0.1111111111111111, \"#46039f\"], [0.2222222222222222, \"#7201a8\"], [0.3333333333333333, \"#9c179e\"], [0.4444444444444444, \"#bd3786\"], [0.5555555555555556, \"#d8576b\"], [0.6666666666666666, \"#ed7953\"], [0.7777777777777778, \"#fb9f3a\"], [0.8888888888888888, \"#fdca26\"], [1.0, \"#f0f921\"]]}, \"colorway\": [\"#636efa\", \"#EF553B\", \"#00cc96\", \"#ab63fa\", \"#FFA15A\", \"#19d3f3\", \"#FF6692\", \"#B6E880\", \"#FF97FF\", \"#FECB52\"], \"font\": {\"color\": \"#2a3f5f\"}, \"geo\": {\"bgcolor\": \"white\", \"lakecolor\": \"white\", \"landcolor\": \"#E5ECF6\", \"showlakes\": true, \"showland\": true, \"subunitcolor\": \"white\"}, \"hoverlabel\": {\"align\": \"left\"}, \"hovermode\": \"closest\", \"mapbox\": {\"style\": \"light\"}, \"paper_bgcolor\": \"white\", \"plot_bgcolor\": \"#E5ECF6\", \"polar\": {\"angularaxis\": {\"gridcolor\": \"white\", \"linecolor\": \"white\", \"ticks\": \"\"}, \"bgcolor\": \"#E5ECF6\", \"radialaxis\": {\"gridcolor\": \"white\", \"linecolor\": \"white\", \"ticks\": \"\"}}, \"scene\": {\"xaxis\": {\"backgroundcolor\": \"#E5ECF6\", \"gridcolor\": \"white\", \"gridwidth\": 2, \"linecolor\": \"white\", \"showbackground\": true, \"ticks\": \"\", \"zerolinecolor\": \"white\"}, \"yaxis\": {\"backgroundcolor\": \"#E5ECF6\", \"gridcolor\": \"white\", \"gridwidth\": 2, \"linecolor\": \"white\", \"showbackground\": true, \"ticks\": \"\", \"zerolinecolor\": \"white\"}, \"zaxis\": {\"backgroundcolor\": \"#E5ECF6\", \"gridcolor\": \"white\", \"gridwidth\": 2, \"linecolor\": \"white\", \"showbackground\": true, \"ticks\": \"\", \"zerolinecolor\": \"white\"}}, \"shapedefaults\": {\"line\": {\"color\": \"#2a3f5f\"}}, \"ternary\": {\"aaxis\": {\"gridcolor\": \"white\", \"linecolor\": \"white\", \"ticks\": \"\"}, \"baxis\": {\"gridcolor\": \"white\", \"linecolor\": \"white\", \"ticks\": \"\"}, \"bgcolor\": \"#E5ECF6\", \"caxis\": {\"gridcolor\": \"white\", \"linecolor\": \"white\", \"ticks\": \"\"}}, \"title\": {\"x\": 0.05}, \"xaxis\": {\"automargin\": true, \"gridcolor\": \"white\", \"linecolor\": \"white\", \"ticks\": \"\", \"title\": {\"standoff\": 15}, \"zerolinecolor\": \"white\", \"zerolinewidth\": 2}, \"yaxis\": {\"automargin\": true, \"gridcolor\": \"white\", \"linecolor\": \"white\", \"ticks\": \"\", \"title\": {\"standoff\": 15}, \"zerolinecolor\": \"white\", \"zerolinewidth\": 2}}}, \"width\": 1000, \"xaxis\": {\"dtick\": 1, \"gridcolor\": \"rgb(0, 0, 0)\", \"side\": \"top\", \"ticks\": \"\"}, \"yaxis\": {\"dtick\": 1, \"ticks\": \"\", \"ticksuffix\": \"  \"}},                        {\"responsive\": true}                    ).then(function(){\n",
       "                            \n",
       "var gd = document.getElementById('fab63d96-6d5f-4906-b5a6-8d5010c52835');\n",
       "var x = new MutationObserver(function (mutations, observer) {{\n",
       "        var display = window.getComputedStyle(gd).display;\n",
       "        if (!display || display === 'none') {{\n",
       "            console.log([gd, 'removed!']);\n",
       "            Plotly.purge(gd);\n",
       "            observer.disconnect();\n",
       "        }}\n",
       "}});\n",
       "\n",
       "// Listen for the removal of the full notebook cells\n",
       "var notebookContainer = gd.closest('#notebook-container');\n",
       "if (notebookContainer) {{\n",
       "    x.observe(notebookContainer, {childList: true});\n",
       "}}\n",
       "\n",
       "// Listen for the clearing of the current output cell\n",
       "var outputEl = gd.closest('.output');\n",
       "if (outputEl) {{\n",
       "    x.observe(outputEl, {childList: true});\n",
       "}}\n",
       "\n",
       "                        })                };                });            </script>        </div>"
      ]
     },
     "metadata": {},
     "output_type": "display_data"
    }
   ],
   "source": [
    "fig=ff.create_annotated_heatmap(z=corr.values,\n",
    "                           x=list(corr.columns),\n",
    "                           y=list(corr.index),\n",
    "                           annotation_text=corr.round(2).values,\n",
    "                           showscale=True,\n",
    "                               colorscale='Earth',)\n",
    "fig.layout.margin=dict(l=200,t=200)\n",
    "fig.layout.height=800\n",
    "fig.layout.width=1000\n",
    "iplot(fig)"
   ]
  },
  {
   "cell_type": "markdown",
   "metadata": {},
   "source": [
    "**For Concrete analysis of the data, We divide the input variables into \"Client data\" ,\"Communication\" and \"Socio-Economic indicator**  \n",
    "\n",
    "Client Data = age, job, marital, education, default, housing, loan  \n",
    "Comuunication = campaign, previous, poutcome  \n",
    "Socio-Economic indicator = emp.var.rate, cons.price.idx, cons.conf.idx, euribor3m\n",
    "\n",
    "\n"
   ]
  },
  {
   "cell_type": "code",
   "execution_count": 19,
   "metadata": {
    "ExecuteTime": {
     "end_time": "2021-01-27T16:20:54.223112Z",
     "start_time": "2021-01-27T16:20:54.198115Z"
    }
   },
   "outputs": [],
   "source": [
    "loan_data = df[[ 'default', 'housing','loan']]\n",
    "comm_dat = df[['campaign','previous', 'poutcome']]\n",
    "soc_eco_dat = df[[ 'emp.var.rate', 'cons.price.idx', 'cons.conf.idx', 'euribor3m']]\n",
    "\n"
   ]
  },
  {
   "cell_type": "markdown",
   "metadata": {},
   "source": [
    "# Data Aggregation"
   ]
  },
  {
   "cell_type": "markdown",
   "metadata": {},
   "source": [
    "Data Aggregation based on the job with respect to ouput variable('y')"
   ]
  },
  {
   "cell_type": "code",
   "execution_count": 20,
   "metadata": {
    "ExecuteTime": {
     "end_time": "2021-01-27T16:20:54.316115Z",
     "start_time": "2021-01-27T16:20:54.225115Z"
    }
   },
   "outputs": [
    {
     "data": {
      "text/plain": [
       "job            y\n",
       "admin.         0    9068\n",
       "               1    1351\n",
       "blue-collar    0    8615\n",
       "               1     638\n",
       "entrepreneur   0    1332\n",
       "               1     124\n",
       "housemaid      0     954\n",
       "               1     106\n",
       "management     0    2596\n",
       "               1     328\n",
       "retired        0    1284\n",
       "               1     434\n",
       "self-employed  0    1272\n",
       "               1     149\n",
       "services       0    3644\n",
       "               1     323\n",
       "student        0     600\n",
       "               1     275\n",
       "technician     0    6009\n",
       "               1     730\n",
       "unemployed     0     870\n",
       "               1     144\n",
       "unknown        0     293\n",
       "               1      37\n",
       "Name: y, dtype: int64"
      ]
     },
     "execution_count": 20,
     "metadata": {},
     "output_type": "execute_result"
    }
   ],
   "source": [
    "df.groupby('job')['y'].value_counts()"
   ]
  },
  {
   "cell_type": "code",
   "execution_count": null,
   "metadata": {
    "ExecuteTime": {
     "end_time": "2021-01-27T15:37:20.691238Z",
     "start_time": "2021-01-27T15:37:20.535241Z"
    }
   },
   "outputs": [],
   "source": []
  },
  {
   "cell_type": "code",
   "execution_count": null,
   "metadata": {},
   "outputs": [],
   "source": []
  },
  {
   "cell_type": "markdown",
   "metadata": {},
   "source": [
    "# Data Analysis"
   ]
  },
  {
   "cell_type": "markdown",
   "metadata": {},
   "source": [
    "## Univariate Data Analysis"
   ]
  },
  {
   "cell_type": "code",
   "execution_count": 27,
   "metadata": {
    "ExecuteTime": {
     "end_time": "2021-01-27T16:22:40.714426Z",
     "start_time": "2021-01-27T16:22:40.698432Z"
    }
   },
   "outputs": [],
   "source": [
    "df1 = df.groupby('job')[\"y\"].value_counts()"
   ]
  },
  {
   "cell_type": "code",
   "execution_count": 35,
   "metadata": {
    "ExecuteTime": {
     "end_time": "2021-01-27T16:29:19.194335Z",
     "start_time": "2021-01-27T16:29:19.183338Z"
    }
   },
   "outputs": [
    {
     "data": {
      "text/plain": [
       "job            y\n",
       "admin.         0    9068\n",
       "               1    1351\n",
       "blue-collar    0    8615\n",
       "               1     638\n",
       "entrepreneur   0    1332\n",
       "               1     124\n",
       "housemaid      0     954\n",
       "               1     106\n",
       "management     0    2596\n",
       "               1     328\n",
       "retired        0    1284\n",
       "               1     434\n",
       "self-employed  0    1272\n",
       "               1     149\n",
       "services       0    3644\n",
       "               1     323\n",
       "student        0     600\n",
       "               1     275\n",
       "technician     0    6009\n",
       "               1     730\n",
       "unemployed     0     870\n",
       "               1     144\n",
       "unknown        0     293\n",
       "               1      37\n",
       "Name: y, dtype: int64"
      ]
     },
     "execution_count": 35,
     "metadata": {},
     "output_type": "execute_result"
    }
   ],
   "source": [
    "df1"
   ]
  },
  {
   "cell_type": "code",
   "execution_count": 36,
   "metadata": {
    "ExecuteTime": {
     "end_time": "2021-01-27T16:35:02.613602Z",
     "start_time": "2021-01-27T16:35:02.576607Z"
    }
   },
   "outputs": [],
   "source": [
    "df2 = df.pivot_table(index = ['job',\"y\"], values = \"education\", aggfunc = \"count\").reset_index()"
   ]
  },
  {
   "cell_type": "code",
   "execution_count": 37,
   "metadata": {
    "ExecuteTime": {
     "end_time": "2021-01-27T16:35:03.647603Z",
     "start_time": "2021-01-27T16:35:03.634602Z"
    }
   },
   "outputs": [
    {
     "data": {
      "text/html": [
       "<div>\n",
       "<style scoped>\n",
       "    .dataframe tbody tr th:only-of-type {\n",
       "        vertical-align: middle;\n",
       "    }\n",
       "\n",
       "    .dataframe tbody tr th {\n",
       "        vertical-align: top;\n",
       "    }\n",
       "\n",
       "    .dataframe thead th {\n",
       "        text-align: right;\n",
       "    }\n",
       "</style>\n",
       "<table border=\"1\" class=\"dataframe\">\n",
       "  <thead>\n",
       "    <tr style=\"text-align: right;\">\n",
       "      <th></th>\n",
       "      <th>job</th>\n",
       "      <th>y</th>\n",
       "      <th>education</th>\n",
       "    </tr>\n",
       "  </thead>\n",
       "  <tbody>\n",
       "    <tr>\n",
       "      <th>0</th>\n",
       "      <td>admin.</td>\n",
       "      <td>0</td>\n",
       "      <td>9068</td>\n",
       "    </tr>\n",
       "    <tr>\n",
       "      <th>1</th>\n",
       "      <td>admin.</td>\n",
       "      <td>1</td>\n",
       "      <td>1351</td>\n",
       "    </tr>\n",
       "    <tr>\n",
       "      <th>2</th>\n",
       "      <td>blue-collar</td>\n",
       "      <td>0</td>\n",
       "      <td>8615</td>\n",
       "    </tr>\n",
       "    <tr>\n",
       "      <th>3</th>\n",
       "      <td>blue-collar</td>\n",
       "      <td>1</td>\n",
       "      <td>638</td>\n",
       "    </tr>\n",
       "    <tr>\n",
       "      <th>4</th>\n",
       "      <td>entrepreneur</td>\n",
       "      <td>0</td>\n",
       "      <td>1332</td>\n",
       "    </tr>\n",
       "    <tr>\n",
       "      <th>5</th>\n",
       "      <td>entrepreneur</td>\n",
       "      <td>1</td>\n",
       "      <td>124</td>\n",
       "    </tr>\n",
       "    <tr>\n",
       "      <th>6</th>\n",
       "      <td>housemaid</td>\n",
       "      <td>0</td>\n",
       "      <td>954</td>\n",
       "    </tr>\n",
       "    <tr>\n",
       "      <th>7</th>\n",
       "      <td>housemaid</td>\n",
       "      <td>1</td>\n",
       "      <td>106</td>\n",
       "    </tr>\n",
       "    <tr>\n",
       "      <th>8</th>\n",
       "      <td>management</td>\n",
       "      <td>0</td>\n",
       "      <td>2596</td>\n",
       "    </tr>\n",
       "    <tr>\n",
       "      <th>9</th>\n",
       "      <td>management</td>\n",
       "      <td>1</td>\n",
       "      <td>328</td>\n",
       "    </tr>\n",
       "    <tr>\n",
       "      <th>10</th>\n",
       "      <td>retired</td>\n",
       "      <td>0</td>\n",
       "      <td>1284</td>\n",
       "    </tr>\n",
       "    <tr>\n",
       "      <th>11</th>\n",
       "      <td>retired</td>\n",
       "      <td>1</td>\n",
       "      <td>434</td>\n",
       "    </tr>\n",
       "    <tr>\n",
       "      <th>12</th>\n",
       "      <td>self-employed</td>\n",
       "      <td>0</td>\n",
       "      <td>1272</td>\n",
       "    </tr>\n",
       "    <tr>\n",
       "      <th>13</th>\n",
       "      <td>self-employed</td>\n",
       "      <td>1</td>\n",
       "      <td>149</td>\n",
       "    </tr>\n",
       "    <tr>\n",
       "      <th>14</th>\n",
       "      <td>services</td>\n",
       "      <td>0</td>\n",
       "      <td>3644</td>\n",
       "    </tr>\n",
       "    <tr>\n",
       "      <th>15</th>\n",
       "      <td>services</td>\n",
       "      <td>1</td>\n",
       "      <td>323</td>\n",
       "    </tr>\n",
       "    <tr>\n",
       "      <th>16</th>\n",
       "      <td>student</td>\n",
       "      <td>0</td>\n",
       "      <td>600</td>\n",
       "    </tr>\n",
       "    <tr>\n",
       "      <th>17</th>\n",
       "      <td>student</td>\n",
       "      <td>1</td>\n",
       "      <td>275</td>\n",
       "    </tr>\n",
       "    <tr>\n",
       "      <th>18</th>\n",
       "      <td>technician</td>\n",
       "      <td>0</td>\n",
       "      <td>6009</td>\n",
       "    </tr>\n",
       "    <tr>\n",
       "      <th>19</th>\n",
       "      <td>technician</td>\n",
       "      <td>1</td>\n",
       "      <td>730</td>\n",
       "    </tr>\n",
       "    <tr>\n",
       "      <th>20</th>\n",
       "      <td>unemployed</td>\n",
       "      <td>0</td>\n",
       "      <td>870</td>\n",
       "    </tr>\n",
       "    <tr>\n",
       "      <th>21</th>\n",
       "      <td>unemployed</td>\n",
       "      <td>1</td>\n",
       "      <td>144</td>\n",
       "    </tr>\n",
       "    <tr>\n",
       "      <th>22</th>\n",
       "      <td>unknown</td>\n",
       "      <td>0</td>\n",
       "      <td>293</td>\n",
       "    </tr>\n",
       "    <tr>\n",
       "      <th>23</th>\n",
       "      <td>unknown</td>\n",
       "      <td>1</td>\n",
       "      <td>37</td>\n",
       "    </tr>\n",
       "  </tbody>\n",
       "</table>\n",
       "</div>"
      ],
      "text/plain": [
       "              job  y  education\n",
       "0          admin.  0       9068\n",
       "1          admin.  1       1351\n",
       "2     blue-collar  0       8615\n",
       "3     blue-collar  1        638\n",
       "4    entrepreneur  0       1332\n",
       "5    entrepreneur  1        124\n",
       "6       housemaid  0        954\n",
       "7       housemaid  1        106\n",
       "8      management  0       2596\n",
       "9      management  1        328\n",
       "10        retired  0       1284\n",
       "11        retired  1        434\n",
       "12  self-employed  0       1272\n",
       "13  self-employed  1        149\n",
       "14       services  0       3644\n",
       "15       services  1        323\n",
       "16        student  0        600\n",
       "17        student  1        275\n",
       "18     technician  0       6009\n",
       "19     technician  1        730\n",
       "20     unemployed  0        870\n",
       "21     unemployed  1        144\n",
       "22        unknown  0        293\n",
       "23        unknown  1         37"
      ]
     },
     "execution_count": 37,
     "metadata": {},
     "output_type": "execute_result"
    }
   ],
   "source": [
    "df2"
   ]
  },
  {
   "cell_type": "code",
   "execution_count": null,
   "metadata": {
    "ExecuteTime": {
     "end_time": "2021-01-27T16:20:55.468115Z",
     "start_time": "2021-01-27T16:20:48.307Z"
    },
    "scrolled": true
   },
   "outputs": [],
   "source": [
    "# Comparing the categorical variable with the output variable \n",
    "# Counting(frequency distribution) of 'job' column with respect to output variable\n",
    "df.groupby('job')['y'].value_counts().iplot(kind='bar',\n",
    "                                            xTitle='job',\n",
    "                                            yTitle='observation',                     \n",
    "                                            title='Job frequency with respect to output variable',\n",
    "                                            linecolor='blue')\n",
    "                                          "
   ]
  },
  {
   "cell_type": "markdown",
   "metadata": {},
   "source": [
    "We can see in the above plot that most of the customers who subscribed or didn't subscribed to a term deposit are from admin job category. Clients from student, unemployed, retired and entrepreneur,unknown and house maid job background are very less in numbers"
   ]
  },
  {
   "cell_type": "markdown",
   "metadata": {},
   "source": [
    "**IS JOB RELEVANT FOR SUCCESSFUL BANK MARKETING CAMPAIGN?**  \n",
    "Yes, If we go by count, job is relevant for a successful bank marketing campaign as huge chuncks of clients are from admin, blue-collar or technician background. Though on the lower count, clients who are not related to job has the higher proportion of accepatance of the bank product."
   ]
  },
  {
   "cell_type": "code",
   "execution_count": null,
   "metadata": {
    "ExecuteTime": {
     "end_time": "2021-01-27T16:20:55.470116Z",
     "start_time": "2021-01-27T16:20:48.432Z"
    }
   },
   "outputs": [],
   "source": [
    "# default frequency with respect to output variable\n",
    "df.groupby('default')['y'].value_counts().iplot(kind='bar',\n",
    "                                            xTitle='default',\n",
    "                                            yTitle='observation',                     \n",
    "                                            title='default frequency with respect to output variable',\n",
    "                                            linecolor='blue')\n",
    "                                          "
   ]
  },
  {
   "cell_type": "markdown",
   "metadata": {},
   "source": [
    "Clients with no credit default are tend to subscribe term deposit more. And clients with credit default tend to almost reject the idea."
   ]
  },
  {
   "cell_type": "code",
   "execution_count": null,
   "metadata": {
    "ExecuteTime": {
     "end_time": "2021-01-27T16:20:55.471114Z",
     "start_time": "2021-01-27T16:20:48.485Z"
    }
   },
   "outputs": [],
   "source": [
    "# housing loan frequency with respect to output variable\n",
    "df.groupby('housing')['y'].value_counts().iplot(kind='bar',\n",
    "                                            xTitle='housing_loan',\n",
    "                                            yTitle='observation',                     \n",
    "                                            title='housing frequency with respect to output variable',\n",
    "                                            linecolor='blue')\n",
    "                                          "
   ]
  },
  {
   "cell_type": "markdown",
   "metadata": {},
   "source": [
    "Clients with no housing loan are more inclined towards the product ."
   ]
  },
  {
   "cell_type": "markdown",
   "metadata": {},
   "source": [
    "Comparatively, months of october, december, march, april and september, the count of acceptance to a term deposit is higher than rejection. But may is the month with highest participation and december with the lowest.*Month is not in order either chronologically or quaterly, so this result is not for analysis.*"
   ]
  },
  {
   "cell_type": "code",
   "execution_count": null,
   "metadata": {
    "ExecuteTime": {
     "end_time": "2021-01-27T16:20:55.472114Z",
     "start_time": "2021-01-27T16:20:48.593Z"
    }
   },
   "outputs": [],
   "source": [
    "# Univariate analysis of numerical variable\n",
    "\n",
    "sns.boxplot(data=df, x ='y', y='age')"
   ]
  },
  {
   "cell_type": "code",
   "execution_count": null,
   "metadata": {
    "ExecuteTime": {
     "end_time": "2021-01-27T16:20:55.475117Z",
     "start_time": "2021-01-27T16:20:48.604Z"
    }
   },
   "outputs": [],
   "source": [
    "px.histogram(df, x='age', color = 'y')\n",
    "                                          "
   ]
  },
  {
   "cell_type": "markdown",
   "metadata": {
    "ExecuteTime": {
     "end_time": "2020-12-10T13:44:49.109946Z",
     "start_time": "2020-12-10T13:44:48.954948Z"
    }
   },
   "source": [
    "Clients who have subscribed and didn't subscribed to the product has nearly equal mean. The boxplot for both output tend to  overlap a lot  \n",
    "So, age will not be considered a good indicator here with regard to decision making."
   ]
  },
  {
   "cell_type": "markdown",
   "metadata": {},
   "source": [
    "**IS AGE RELEVANT?**  \n",
    "The answer lies just above."
   ]
  },
  {
   "cell_type": "code",
   "execution_count": null,
   "metadata": {
    "ExecuteTime": {
     "end_time": "2021-01-27T16:20:55.478117Z",
     "start_time": "2021-01-27T16:20:48.715Z"
    }
   },
   "outputs": [],
   "source": [
    "df.drop(['age'], axis=1, inplace = True)"
   ]
  },
  {
   "cell_type": "markdown",
   "metadata": {},
   "source": [
    "## Average value of numerical features for the client who subscribed a term deposit and who didn't"
   ]
  },
  {
   "cell_type": "code",
   "execution_count": null,
   "metadata": {
    "ExecuteTime": {
     "end_time": "2021-01-27T16:20:55.480116Z",
     "start_time": "2021-01-27T16:20:48.766Z"
    }
   },
   "outputs": [],
   "source": [
    "\n",
    "avg_y_y= df[df['y']==1].mean()\n",
    "avg_y_y"
   ]
  },
  {
   "cell_type": "code",
   "execution_count": null,
   "metadata": {
    "ExecuteTime": {
     "end_time": "2021-01-27T16:20:55.481116Z",
     "start_time": "2021-01-27T16:20:48.771Z"
    },
    "scrolled": true
   },
   "outputs": [],
   "source": [
    "avg_y_y= df[df['y']==1].mean()\n",
    "avg_y_y.iplot(kind='bar',\n",
    "             yTitle='mean',\n",
    "             xTitle='input variable',\n",
    "             title='Average value of numerical features for the client who subscribed a term deposit',\n",
    "             linecolor='blue')"
   ]
  },
  {
   "cell_type": "code",
   "execution_count": null,
   "metadata": {
    "ExecuteTime": {
     "end_time": "2021-01-27T16:20:55.483116Z",
     "start_time": "2021-01-27T16:20:48.781Z"
    },
    "scrolled": true
   },
   "outputs": [],
   "source": [
    "# Average value of numerical features for the client who did not subscribed a term deposit\n",
    "avg_y_n= df[df['y']==0].mean()\n",
    "avg_y_n.iplot(kind='bar',\n",
    "             yTitle='mean',\n",
    "             xTitle='input variable',\n",
    "             title='Average value of numerical features for the client who did not subscribed a term deposit',\n",
    "             linecolor='blue')"
   ]
  },
  {
   "cell_type": "markdown",
   "metadata": {},
   "source": [
    "## WHAT IS THE OBSERVATION WITH **NO ANY TYPE OF LOAN**(housing loan = 'no', default='no', loan = 'no') AND **LOAN WITH DEFAULT** (housing loan = 'yes', default='yes', loan = 'yes) CONDITION. THERE CAN BE SEVERAL COMBINATION TO ANALYSE THE DATA BUT WE CHOSE ONLY THE EXTREME CONDITION HERE."
   ]
  },
  {
   "cell_type": "code",
   "execution_count": null,
   "metadata": {
    "ExecuteTime": {
     "end_time": "2021-01-27T16:20:55.484115Z",
     "start_time": "2021-01-27T16:20:48.838Z"
    }
   },
   "outputs": [],
   "source": [
    "df2 = df[['housing','loan','default','y']]\n",
    "\n",
    "loan_with_default= df2[(df2['default']=='yes') & (df2['housing']=='yes') & (df2['loan']=='yes')]\n",
    "no_loan=df2[(df2['default']=='no') & (df2['housing']=='no') & (df2['loan']=='no')]\n"
   ]
  },
  {
   "cell_type": "code",
   "execution_count": null,
   "metadata": {
    "ExecuteTime": {
     "end_time": "2021-01-27T16:20:55.486117Z",
     "start_time": "2021-01-27T16:20:48.842Z"
    }
   },
   "outputs": [],
   "source": [
    "loan_with_default"
   ]
  },
  {
   "cell_type": "markdown",
   "metadata": {},
   "source": [
    "The Bank didnot offer the product to the clients who have loan and defaulted."
   ]
  },
  {
   "cell_type": "code",
   "execution_count": null,
   "metadata": {
    "ExecuteTime": {
     "end_time": "2021-01-27T16:20:55.487115Z",
     "start_time": "2021-01-27T16:20:48.900Z"
    }
   },
   "outputs": [],
   "source": [
    "no_loan"
   ]
  },
  {
   "cell_type": "code",
   "execution_count": null,
   "metadata": {
    "ExecuteTime": {
     "end_time": "2021-01-27T16:20:55.488115Z",
     "start_time": "2021-01-27T16:20:48.905Z"
    }
   },
   "outputs": [],
   "source": [
    "no_loan['y'].value_counts()"
   ]
  },
  {
   "cell_type": "code",
   "execution_count": null,
   "metadata": {
    "ExecuteTime": {
     "end_time": "2021-01-27T16:20:55.490115Z",
     "start_time": "2021-01-27T16:20:48.912Z"
    }
   },
   "outputs": [],
   "source": [
    "no_loan['y'].value_counts().iplot(kind='bar',\n",
    "             xTitle='y',\n",
    "             yTitle='observation',                     \n",
    "             title='Clients with no any type of loan and default',\n",
    "             linecolor='blue')"
   ]
  },
  {
   "cell_type": "markdown",
   "metadata": {},
   "source": [
    "The Bank offered the products to 12600 clients with no loan and default, where only small proportion of the client subscribed to the product."
   ]
  },
  {
   "cell_type": "markdown",
   "metadata": {
    "ExecuteTime": {
     "end_time": "2020-12-10T15:43:44.953738Z",
     "start_time": "2020-12-10T15:43:44.946737Z"
    }
   },
   "source": [
    "## **WHAT IS THE OBSERVATION DURING BEST(emp.var.rate = low, cons.price.idx =low, cons.conf.idx = high, euribor3m = low) AND BAD (emp.var.rate = high, cons.price.idx=high, cons.conf.idx=low, euribor3m=high) SOCIO-ECONOMIC SCENARIO** "
   ]
  },
  {
   "cell_type": "code",
   "execution_count": null,
   "metadata": {
    "ExecuteTime": {
     "end_time": "2021-01-27T16:20:55.492118Z",
     "start_time": "2021-01-27T16:20:49.046Z"
    }
   },
   "outputs": [],
   "source": [
    "# During the best socio-economic scenario. The value used are based on the round value of mean.\n",
    "df3 = df[['emp.var.rate','cons.price.idx','cons.conf.idx','euribor3m','y']]\n",
    "good_scenario= df3[(df3['emp.var.rate']>0.08) & (df3['cons.price.idx']<93.55) & (df3['cons.conf.idx']>-40) & (df3['euribor3m']>3)]"
   ]
  },
  {
   "cell_type": "code",
   "execution_count": null,
   "metadata": {
    "ExecuteTime": {
     "end_time": "2021-01-27T16:20:55.494118Z",
     "start_time": "2021-01-27T16:20:49.051Z"
    }
   },
   "outputs": [],
   "source": [
    "good_scenario"
   ]
  },
  {
   "cell_type": "code",
   "execution_count": null,
   "metadata": {
    "ExecuteTime": {
     "end_time": "2021-01-27T16:20:55.497118Z",
     "start_time": "2021-01-27T16:20:49.057Z"
    }
   },
   "outputs": [],
   "source": [
    "good_scenario['y'].value_counts()"
   ]
  },
  {
   "cell_type": "code",
   "execution_count": null,
   "metadata": {
    "ExecuteTime": {
     "end_time": "2021-01-27T16:20:55.499115Z",
     "start_time": "2021-01-27T16:20:49.061Z"
    }
   },
   "outputs": [],
   "source": [
    "good_scenario['y'].value_counts().iplot(kind='bar',\n",
    "                                      xTitle='y',\n",
    "                                    yTitle='observation',                     \n",
    "                                    title='Good_Scenario',\n",
    "                                     linecolor='blue' )"
   ]
  },
  {
   "cell_type": "code",
   "execution_count": null,
   "metadata": {
    "ExecuteTime": {
     "end_time": "2021-01-27T16:20:55.501118Z",
     "start_time": "2021-01-27T16:20:49.065Z"
    }
   },
   "outputs": [],
   "source": [
    "# During the bad socio-economic scenario. The value used are based on the round value of mean.\n",
    "df3 = df[['emp.var.rate','cons.price.idx','cons.conf.idx','euribor3m','y']]\n",
    "bad_scenario= df3[(df3['emp.var.rate']<0.08) & (df3['cons.price.idx']>93.5) & (df3['cons.conf.idx']<-40) & (df3['euribor3m']<3)]"
   ]
  },
  {
   "cell_type": "code",
   "execution_count": null,
   "metadata": {
    "ExecuteTime": {
     "end_time": "2021-01-27T16:20:55.503117Z",
     "start_time": "2021-01-27T16:20:49.075Z"
    }
   },
   "outputs": [],
   "source": [
    "bad_scenario"
   ]
  },
  {
   "cell_type": "code",
   "execution_count": null,
   "metadata": {
    "ExecuteTime": {
     "end_time": "2021-01-27T16:20:55.505116Z",
     "start_time": "2021-01-27T16:20:49.079Z"
    }
   },
   "outputs": [],
   "source": [
    "bad_scenario['y'].value_counts()\n"
   ]
  },
  {
   "cell_type": "code",
   "execution_count": null,
   "metadata": {
    "ExecuteTime": {
     "end_time": "2021-01-27T16:20:55.506114Z",
     "start_time": "2021-01-27T16:20:49.088Z"
    }
   },
   "outputs": [],
   "source": [
    "bad_scenario['y'].value_counts().iplot(kind='bar',\n",
    "                                      xTitle='y',\n",
    "                                    yTitle='observation',                     \n",
    "                                    title='Bad_Scenario',\n",
    "                                     linecolor='blue')"
   ]
  },
  {
   "cell_type": "markdown",
   "metadata": {},
   "source": [
    "Conclusion:  \n",
    "Marketing campaign was mostly active during the best socio_economic scenario in compared to bad scenario(5173 vs 643 observation). But quite contrary to the general perception, the proportion of clients subscribing to the bank product is higher during the bad socio-economic scenario by huge margin. There are high chances that the bank offers an attractive product during bad scenario in comparison to good scenario."
   ]
  },
  {
   "cell_type": "markdown",
   "metadata": {},
   "source": [
    "Summarry: The data analysis of Bank marketing data results varying conclusion to the varying scenario and condition. The data analysis in the extreme conditions regarding loan and default provided the extreme result(0). The number of clients  Bank offered the product was directly proportional to the best and bad  socio-economic scenario but was inversely proprtional to it  in terms of clients who subscribed for the product. The conclusion is solely drawn based on the data provided above and some of the conclusion may not exactly match because of lack of information on date which is very crucial for the socio-economic variables."
   ]
  },
  {
   "cell_type": "code",
   "execution_count": null,
   "metadata": {
    "ExecuteTime": {
     "end_time": "2020-12-10T22:53:54.848609Z",
     "start_time": "2020-12-10T22:53:54.842602Z"
    }
   },
   "outputs": [],
   "source": []
  },
  {
   "cell_type": "code",
   "execution_count": null,
   "metadata": {},
   "outputs": [],
   "source": []
  }
 ],
 "metadata": {
  "kernelspec": {
   "display_name": "Python 3",
   "language": "python",
   "name": "python3"
  },
  "language_info": {
   "codemirror_mode": {
    "name": "ipython",
    "version": 3
   },
   "file_extension": ".py",
   "mimetype": "text/x-python",
   "name": "python",
   "nbconvert_exporter": "python",
   "pygments_lexer": "ipython3",
   "version": "3.8.5"
  },
  "toc": {
   "base_numbering": 1,
   "nav_menu": {},
   "number_sections": true,
   "sideBar": true,
   "skip_h1_title": false,
   "title_cell": "Table of Contents",
   "title_sidebar": "Contents",
   "toc_cell": false,
   "toc_position": {},
   "toc_section_display": true,
   "toc_window_display": false
  },
  "varInspector": {
   "cols": {
    "lenName": 16,
    "lenType": 16,
    "lenVar": 40
   },
   "kernels_config": {
    "python": {
     "delete_cmd_postfix": "",
     "delete_cmd_prefix": "del ",
     "library": "var_list.py",
     "varRefreshCmd": "print(var_dic_list())"
    },
    "r": {
     "delete_cmd_postfix": ") ",
     "delete_cmd_prefix": "rm(",
     "library": "var_list.r",
     "varRefreshCmd": "cat(var_dic_list()) "
    }
   },
   "types_to_exclude": [
    "module",
    "function",
    "builtin_function_or_method",
    "instance",
    "_Feature"
   ],
   "window_display": false
  }
 },
 "nbformat": 4,
 "nbformat_minor": 4
}
